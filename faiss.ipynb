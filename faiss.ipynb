{
 "cells": [
  {
   "cell_type": "code",
   "execution_count": 314,
   "metadata": {},
   "outputs": [],
   "source": [
    "import faiss\n",
    "import numpy as np\n",
    "import pandas as pd\n",
    "import time\n",
    "from collections import OrderedDict\n",
    "from sklearn import preprocessing\n",
    "from matplotlib import pyplot as plt\n",
    "from sklearn import neighbors"
   ]
  },
  {
   "cell_type": "markdown",
   "metadata": {},
   "source": [
    "# Data Prep"
   ]
  },
  {
   "cell_type": "code",
   "execution_count": 25,
   "metadata": {},
   "outputs": [
    {
     "name": "stdout",
     "output_type": "stream",
     "text": [
      "CPU times: user 20.6 s, sys: 1.56 s, total: 22.1 s\n",
      "Wall time: 22.2 s\n"
     ]
    }
   ],
   "source": [
    "%%time\n",
    "stuff = pd.read_csv(\"c2vpoint2m.txt.gz\", sep=\"\\t\", header=None)"
   ]
  },
  {
   "cell_type": "code",
   "execution_count": 233,
   "metadata": {},
   "outputs": [
    {
     "name": "stdout",
     "output_type": "stream",
     "text": [
      "CPU times: user 44.7 s, sys: 11.8 s, total: 56.5 s\n",
      "Wall time: 2min 25s\n"
     ]
    }
   ],
   "source": [
    "%%time\n",
    "stuff2 = pd.read_csv(\"c2vpoint3m.txt.gz\", sep=\"\\t\", header=None)"
   ]
  },
  {
   "cell_type": "code",
   "execution_count": 47,
   "metadata": {},
   "outputs": [],
   "source": [
    "stuff.set_index(0, inplace=True)"
   ]
  },
  {
   "cell_type": "code",
   "execution_count": 34,
   "metadata": {},
   "outputs": [],
   "source": [
    "%%time\n",
    "cgan = pd.read_csv(\"activities.txt.gz\", sep=\"\\t\")"
   ]
  },
  {
   "cell_type": "code",
   "execution_count": 35,
   "metadata": {},
   "outputs": [],
   "source": [
    "egfr_activity = cgan[cgan['target'] == 'EGFR'].set_index('compound')"
   ]
  },
  {
   "cell_type": "code",
   "execution_count": 42,
   "metadata": {},
   "outputs": [],
   "source": [
    "egfr_active = egfr_activity[egfr_activity['activity'] >= 6]\n",
    "egfr_active_compounds = egfr_active.index.values"
   ]
  },
  {
   "cell_type": "code",
   "execution_count": 43,
   "metadata": {},
   "outputs": [],
   "source": [
    "egfr_inactive = egfr_activity[egfr_activity['activity']  < 6]\n",
    "egfr_inactive_compounds = egfr_inactive.index.values"
   ]
  },
  {
   "cell_type": "code",
   "execution_count": 37,
   "metadata": {},
   "outputs": [],
   "source": [
    "egfr_features = pd.read_csv(\"egfr.c2v.txt\", sep=\"\\t\", header=None).set_index(0)"
   ]
  },
  {
   "cell_type": "code",
   "execution_count": 41,
   "metadata": {},
   "outputs": [],
   "source": [
    "egfr_compounds = egfr_features.index.values"
   ]
  },
  {
   "cell_type": "code",
   "execution_count": 61,
   "metadata": {},
   "outputs": [],
   "source": [
    "egfr_active_features = egfr_features.loc[egfr_active_compounds]\n",
    "egfr_inactive_features = egfr_features.loc[egfr_inactive_compounds]"
   ]
  },
  {
   "cell_type": "code",
   "execution_count": 178,
   "metadata": {},
   "outputs": [],
   "source": [
    "min_max_scaler = preprocessing.MinMaxScaler()"
   ]
  },
  {
   "cell_type": "code",
   "execution_count": null,
   "metadata": {},
   "outputs": [],
   "source": []
  },
  {
   "cell_type": "code",
   "execution_count": 193,
   "metadata": {},
   "outputs": [],
   "source": [
    "egfr_active_features_norm = pd.DataFrame(min_max_scaler.fit_transform(egfr_active_features), \n",
    "                                         index=egfr_active_features.index)"
   ]
  },
  {
   "cell_type": "code",
   "execution_count": 192,
   "metadata": {},
   "outputs": [],
   "source": [
    "egfr_inactive_features_norm = pd.DataFrame(min_max_scaler.fit_transform(egfr_inactive_features), \n",
    "                                           index=egfr_inactive_features.index)"
   ]
  },
  {
   "cell_type": "code",
   "execution_count": 58,
   "metadata": {},
   "outputs": [
    {
     "data": {
      "text/plain": [
       "1113"
      ]
     },
     "execution_count": 58,
     "metadata": {},
     "output_type": "execute_result"
    }
   ],
   "source": [
    "len(list(set(stuff.index.values) & set(egfr_compounds)))"
   ]
  },
  {
   "cell_type": "code",
   "execution_count": 59,
   "metadata": {},
   "outputs": [],
   "source": [
    "stuff_cleaned = stuff.loc[list(set(stuff.index.values) - set(egfr_compounds))]"
   ]
  },
  {
   "cell_type": "code",
   "execution_count": 191,
   "metadata": {},
   "outputs": [],
   "source": [
    "stuff_cleaned_norm = pd.DataFrame(min_max_scaler.fit_transform(stuff_cleaned), index=stuff_cleaned.index)"
   ]
  },
  {
   "cell_type": "code",
   "execution_count": 302,
   "metadata": {},
   "outputs": [
    {
     "ename": "KeyboardInterrupt",
     "evalue": "",
     "output_type": "error",
     "traceback": [
      "\u001b[0;31m---------------------------------------------------------------------------\u001b[0m",
      "\u001b[0;31mKeyboardInterrupt\u001b[0m                         Traceback (most recent call last)",
      "\u001b[0;32m<ipython-input-302-204dd6d8c8b9>\u001b[0m in \u001b[0;36m<module>\u001b[0;34m()\u001b[0m\n\u001b[0;32m----> 1\u001b[0;31m \u001b[0mstuff_cleaned\u001b[0m \u001b[0;34m=\u001b[0m \u001b[0mstuff\u001b[0m\u001b[0;34m.\u001b[0m\u001b[0mdrop_duplicates\u001b[0m\u001b[0;34m(\u001b[0m\u001b[0;34m)\u001b[0m\u001b[0;34m\u001b[0m\u001b[0m\n\u001b[0m",
      "\u001b[0;32m~/anaconda3/envs/myenv/lib/python3.6/site-packages/pandas/core/frame.py\u001b[0m in \u001b[0;36mdrop_duplicates\u001b[0;34m(self, subset, keep, inplace)\u001b[0m\n\u001b[1;32m   3533\u001b[0m         \"\"\"\n\u001b[1;32m   3534\u001b[0m         \u001b[0minplace\u001b[0m \u001b[0;34m=\u001b[0m \u001b[0mvalidate_bool_kwarg\u001b[0m\u001b[0;34m(\u001b[0m\u001b[0minplace\u001b[0m\u001b[0;34m,\u001b[0m \u001b[0;34m'inplace'\u001b[0m\u001b[0;34m)\u001b[0m\u001b[0;34m\u001b[0m\u001b[0m\n\u001b[0;32m-> 3535\u001b[0;31m         \u001b[0mduplicated\u001b[0m \u001b[0;34m=\u001b[0m \u001b[0mself\u001b[0m\u001b[0;34m.\u001b[0m\u001b[0mduplicated\u001b[0m\u001b[0;34m(\u001b[0m\u001b[0msubset\u001b[0m\u001b[0;34m,\u001b[0m \u001b[0mkeep\u001b[0m\u001b[0;34m=\u001b[0m\u001b[0mkeep\u001b[0m\u001b[0;34m)\u001b[0m\u001b[0;34m\u001b[0m\u001b[0m\n\u001b[0m\u001b[1;32m   3536\u001b[0m \u001b[0;34m\u001b[0m\u001b[0m\n\u001b[1;32m   3537\u001b[0m         \u001b[0;32mif\u001b[0m \u001b[0minplace\u001b[0m\u001b[0;34m:\u001b[0m\u001b[0;34m\u001b[0m\u001b[0m\n",
      "\u001b[0;32m~/anaconda3/envs/myenv/lib/python3.6/site-packages/pandas/core/frame.py\u001b[0m in \u001b[0;36mduplicated\u001b[0;34m(self, subset, keep)\u001b[0m\n\u001b[1;32m   3580\u001b[0m         vals = (col.values for name, col in self.iteritems()\n\u001b[1;32m   3581\u001b[0m                 if name in subset)\n\u001b[0;32m-> 3582\u001b[0;31m         \u001b[0mlabels\u001b[0m\u001b[0;34m,\u001b[0m \u001b[0mshape\u001b[0m \u001b[0;34m=\u001b[0m \u001b[0mmap\u001b[0m\u001b[0;34m(\u001b[0m\u001b[0mlist\u001b[0m\u001b[0;34m,\u001b[0m \u001b[0mzip\u001b[0m\u001b[0;34m(\u001b[0m\u001b[0;34m*\u001b[0m\u001b[0mmap\u001b[0m\u001b[0;34m(\u001b[0m\u001b[0mf\u001b[0m\u001b[0;34m,\u001b[0m \u001b[0mvals\u001b[0m\u001b[0;34m)\u001b[0m\u001b[0;34m)\u001b[0m\u001b[0;34m)\u001b[0m\u001b[0;34m\u001b[0m\u001b[0m\n\u001b[0m\u001b[1;32m   3583\u001b[0m \u001b[0;34m\u001b[0m\u001b[0m\n\u001b[1;32m   3584\u001b[0m         \u001b[0mids\u001b[0m \u001b[0;34m=\u001b[0m \u001b[0mget_group_index\u001b[0m\u001b[0;34m(\u001b[0m\u001b[0mlabels\u001b[0m\u001b[0;34m,\u001b[0m \u001b[0mshape\u001b[0m\u001b[0;34m,\u001b[0m \u001b[0msort\u001b[0m\u001b[0;34m=\u001b[0m\u001b[0;32mFalse\u001b[0m\u001b[0;34m,\u001b[0m \u001b[0mxnull\u001b[0m\u001b[0;34m=\u001b[0m\u001b[0;32mFalse\u001b[0m\u001b[0;34m)\u001b[0m\u001b[0;34m\u001b[0m\u001b[0m\n",
      "\u001b[0;32m~/anaconda3/envs/myenv/lib/python3.6/site-packages/pandas/core/frame.py\u001b[0m in \u001b[0;36mf\u001b[0;34m(vals)\u001b[0m\n\u001b[1;32m   3568\u001b[0m         \u001b[0;32mdef\u001b[0m \u001b[0mf\u001b[0m\u001b[0;34m(\u001b[0m\u001b[0mvals\u001b[0m\u001b[0;34m)\u001b[0m\u001b[0;34m:\u001b[0m\u001b[0;34m\u001b[0m\u001b[0m\n\u001b[1;32m   3569\u001b[0m             labels, shape = algorithms.factorize(\n\u001b[0;32m-> 3570\u001b[0;31m                 vals, size_hint=min(len(self), _SIZE_HINT_LIMIT))\n\u001b[0m\u001b[1;32m   3571\u001b[0m             \u001b[0;32mreturn\u001b[0m \u001b[0mlabels\u001b[0m\u001b[0;34m.\u001b[0m\u001b[0mastype\u001b[0m\u001b[0;34m(\u001b[0m\u001b[0;34m'i8'\u001b[0m\u001b[0;34m,\u001b[0m \u001b[0mcopy\u001b[0m\u001b[0;34m=\u001b[0m\u001b[0;32mFalse\u001b[0m\u001b[0;34m)\u001b[0m\u001b[0;34m,\u001b[0m \u001b[0mlen\u001b[0m\u001b[0;34m(\u001b[0m\u001b[0mshape\u001b[0m\u001b[0;34m)\u001b[0m\u001b[0;34m\u001b[0m\u001b[0m\n\u001b[1;32m   3572\u001b[0m \u001b[0;34m\u001b[0m\u001b[0m\n",
      "\u001b[0;32m~/anaconda3/envs/myenv/lib/python3.6/site-packages/pandas/core/algorithms.py\u001b[0m in \u001b[0;36mfactorize\u001b[0;34m(values, sort, order, na_sentinel, size_hint)\u001b[0m\n\u001b[1;32m    469\u001b[0m     \u001b[0muniques\u001b[0m \u001b[0;34m=\u001b[0m \u001b[0mvec_klass\u001b[0m\u001b[0;34m(\u001b[0m\u001b[0;34m)\u001b[0m\u001b[0;34m\u001b[0m\u001b[0m\n\u001b[1;32m    470\u001b[0m     \u001b[0mcheck_nulls\u001b[0m \u001b[0;34m=\u001b[0m \u001b[0;32mnot\u001b[0m \u001b[0mis_integer_dtype\u001b[0m\u001b[0;34m(\u001b[0m\u001b[0moriginal\u001b[0m\u001b[0;34m)\u001b[0m\u001b[0;34m\u001b[0m\u001b[0m\n\u001b[0;32m--> 471\u001b[0;31m     \u001b[0mlabels\u001b[0m \u001b[0;34m=\u001b[0m \u001b[0mtable\u001b[0m\u001b[0;34m.\u001b[0m\u001b[0mget_labels\u001b[0m\u001b[0;34m(\u001b[0m\u001b[0mvalues\u001b[0m\u001b[0;34m,\u001b[0m \u001b[0muniques\u001b[0m\u001b[0;34m,\u001b[0m \u001b[0;36m0\u001b[0m\u001b[0;34m,\u001b[0m \u001b[0mna_sentinel\u001b[0m\u001b[0;34m,\u001b[0m \u001b[0mcheck_nulls\u001b[0m\u001b[0;34m)\u001b[0m\u001b[0;34m\u001b[0m\u001b[0m\n\u001b[0m\u001b[1;32m    472\u001b[0m \u001b[0;34m\u001b[0m\u001b[0m\n\u001b[1;32m    473\u001b[0m     \u001b[0mlabels\u001b[0m \u001b[0;34m=\u001b[0m \u001b[0m_ensure_platform_int\u001b[0m\u001b[0;34m(\u001b[0m\u001b[0mlabels\u001b[0m\u001b[0;34m)\u001b[0m\u001b[0;34m\u001b[0m\u001b[0m\n",
      "\u001b[0;32mpandas/_libs/hashtable_class_helper.pxi\u001b[0m in \u001b[0;36mpandas._libs.hashtable.Float64HashTable.get_labels\u001b[0;34m()\u001b[0m\n",
      "\u001b[0;32m~/anaconda3/envs/myenv/lib/python3.6/site-packages/numpy/core/numeric.py\u001b[0m in \u001b[0;36masarray\u001b[0;34m(a, dtype, order)\u001b[0m\n\u001b[1;32m    422\u001b[0m \u001b[0;34m\u001b[0m\u001b[0m\n\u001b[1;32m    423\u001b[0m \u001b[0;34m\u001b[0m\u001b[0m\n\u001b[0;32m--> 424\u001b[0;31m \u001b[0;32mdef\u001b[0m \u001b[0masarray\u001b[0m\u001b[0;34m(\u001b[0m\u001b[0ma\u001b[0m\u001b[0;34m,\u001b[0m \u001b[0mdtype\u001b[0m\u001b[0;34m=\u001b[0m\u001b[0;32mNone\u001b[0m\u001b[0;34m,\u001b[0m \u001b[0morder\u001b[0m\u001b[0;34m=\u001b[0m\u001b[0;32mNone\u001b[0m\u001b[0;34m)\u001b[0m\u001b[0;34m:\u001b[0m\u001b[0;34m\u001b[0m\u001b[0m\n\u001b[0m\u001b[1;32m    425\u001b[0m     \"\"\"Convert the input to an array.\n\u001b[1;32m    426\u001b[0m \u001b[0;34m\u001b[0m\u001b[0m\n",
      "\u001b[0;31mKeyboardInterrupt\u001b[0m: "
     ]
    }
   ],
   "source": [
    "stuff_cleaned = stuff.drop_duplicates()"
   ]
  },
  {
   "cell_type": "code",
   "execution_count": 200,
   "metadata": {},
   "outputs": [
    {
     "data": {
      "text/plain": [
       "True"
      ]
     },
     "execution_count": 200,
     "metadata": {},
     "output_type": "execute_result"
    }
   ],
   "source": [
    "all(i not in egfr_active_features_norm.index.values for i in stuff_cleaned_norm.index.values)"
   ]
  },
  {
   "cell_type": "markdown",
   "metadata": {},
   "source": [
    "# Faiss Test"
   ]
  },
  {
   "cell_type": "code",
   "execution_count": 12,
   "metadata": {},
   "outputs": [],
   "source": [
    "d = 64"
   ]
  },
  {
   "cell_type": "code",
   "execution_count": 13,
   "metadata": {},
   "outputs": [],
   "source": [
    "nb = 100000"
   ]
  },
  {
   "cell_type": "code",
   "execution_count": 14,
   "metadata": {},
   "outputs": [],
   "source": [
    "nq = 10000"
   ]
  },
  {
   "cell_type": "code",
   "execution_count": 15,
   "metadata": {},
   "outputs": [],
   "source": [
    "np.random.seed(1234)"
   ]
  },
  {
   "cell_type": "code",
   "execution_count": 16,
   "metadata": {},
   "outputs": [],
   "source": [
    "xb = np.random.random((nb, d)).astype('float32')"
   ]
  },
  {
   "cell_type": "code",
   "execution_count": 20,
   "metadata": {},
   "outputs": [],
   "source": [
    "xb[:, 0] += np.arange(nb) / 1000."
   ]
  },
  {
   "cell_type": "code",
   "execution_count": 303,
   "metadata": {},
   "outputs": [
    {
     "data": {
      "text/plain": [
       "array([[1.9151945e-01, 6.2210876e-01, 4.3772775e-01, ..., 6.2491673e-01,\n",
       "        4.7809380e-01, 1.9567518e-01],\n",
       "       [3.8431743e-01, 5.3873684e-02, 4.5164841e-01, ..., 1.5139526e-01,\n",
       "        3.3517465e-01, 6.5755177e-01],\n",
       "       [7.7342540e-02, 5.5006396e-02, 3.2319480e-01, ..., 3.4441698e-01,\n",
       "        6.4088041e-01, 1.2620533e-01],\n",
       "       ...,\n",
       "       [2.0080847e+02, 5.9024531e-01, 7.9889351e-01, ..., 3.3985901e-01,\n",
       "        3.0194950e-01, 8.5385454e-01],\n",
       "       [2.0066747e+02, 9.1606879e-01, 9.5507878e-01, ..., 5.9536433e-01,\n",
       "        3.8491808e-02, 1.0563799e-01],\n",
       "       [2.0085463e+02, 5.9113413e-01, 6.7890793e-01, ..., 2.1897699e-01,\n",
       "        6.5301590e-02, 2.1753833e-01]], dtype=float32)"
      ]
     },
     "execution_count": 303,
     "metadata": {},
     "output_type": "execute_result"
    }
   ],
   "source": [
    "xb"
   ]
  },
  {
   "cell_type": "code",
   "execution_count": 18,
   "metadata": {},
   "outputs": [],
   "source": [
    "xq = np.random.random((nq, d)).astype('float32')"
   ]
  },
  {
   "cell_type": "code",
   "execution_count": 21,
   "metadata": {},
   "outputs": [],
   "source": [
    "xq[:, 0] += np.arange(nq) / 1000."
   ]
  },
  {
   "cell_type": "code",
   "execution_count": 27,
   "metadata": {},
   "outputs": [],
   "source": [
    "index = faiss.IndexFlatL2(d)"
   ]
  },
  {
   "cell_type": "code",
   "execution_count": 228,
   "metadata": {},
   "outputs": [],
   "source": [
    "index = faiss.IndexFlatIP(d)"
   ]
  },
  {
   "cell_type": "code",
   "execution_count": 242,
   "metadata": {},
   "outputs": [],
   "source": [
    "index = faiss.IndexHNSWFlat(d, 32)"
   ]
  },
  {
   "cell_type": "code",
   "execution_count": 235,
   "metadata": {},
   "outputs": [
    {
     "data": {
      "text/plain": [
       "<faiss.swigfaiss.IndexHNSWFlat; proxy of <Swig Object of type 'faiss::IndexHNSWFlat *' at 0x7ffa030ba4b0> >"
      ]
     },
     "execution_count": 235,
     "metadata": {},
     "output_type": "execute_result"
    }
   ],
   "source": []
  },
  {
   "cell_type": "code",
   "execution_count": 232,
   "metadata": {},
   "outputs": [
    {
     "data": {
      "text/plain": [
       "True"
      ]
     },
     "execution_count": 232,
     "metadata": {},
     "output_type": "execute_result"
    }
   ],
   "source": [
    "index.is_trained"
   ]
  },
  {
   "cell_type": "code",
   "execution_count": 97,
   "metadata": {},
   "outputs": [
    {
     "name": "stdout",
     "output_type": "stream",
     "text": [
      "<faiss.swigfaiss.IndexFlatL2; proxy of <Swig Object of type 'faiss::IndexFlatL2 *' at 0x7ffb5847ebd0> >\n"
     ]
    }
   ],
   "source": [
    "print(index)"
   ]
  },
  {
   "cell_type": "code",
   "execution_count": 236,
   "metadata": {},
   "outputs": [
    {
     "name": "stdout",
     "output_type": "stream",
     "text": [
      "True\n"
     ]
    }
   ],
   "source": [
    "print(index.is_trained)"
   ]
  },
  {
   "cell_type": "code",
   "execution_count": 237,
   "metadata": {},
   "outputs": [],
   "source": [
    "index.add(xb)"
   ]
  },
  {
   "cell_type": "code",
   "execution_count": 238,
   "metadata": {},
   "outputs": [
    {
     "name": "stdout",
     "output_type": "stream",
     "text": [
      "100000\n"
     ]
    }
   ],
   "source": [
    "print(index.ntotal)"
   ]
  },
  {
   "cell_type": "code",
   "execution_count": 239,
   "metadata": {},
   "outputs": [],
   "source": [
    "k = 4"
   ]
  },
  {
   "cell_type": "code",
   "execution_count": 240,
   "metadata": {},
   "outputs": [
    {
     "name": "stdout",
     "output_type": "stream",
     "text": [
      "[[  0  78 100 393]\n",
      " [  1 175 277 364]\n",
      " [  2 304 101  13]\n",
      " [  3 173  18 182]\n",
      " [  4 288  18 175]]\n",
      "[[0.        7.269569  7.470868  7.527162 ]\n",
      " [0.        6.8936625 7.024329  7.2946835]\n",
      " [0.        6.1093006 6.4545927 7.283067 ]\n",
      " [0.        7.370055  7.5503116 7.7337513]\n",
      " [0.        7.0206275 7.553274  7.5589724]]\n"
     ]
    }
   ],
   "source": [
    "D, I = index.search(xb[:5], k)\n",
    "print(I)\n",
    "print(D)"
   ]
  },
  {
   "cell_type": "code",
   "execution_count": 241,
   "metadata": {},
   "outputs": [
    {
     "name": "stdout",
     "output_type": "stream",
     "text": [
      "[[207 381 210 477]\n",
      " [142  72  64 300]\n",
      " [425 527 281 637]\n",
      " [196 184 164 181]\n",
      " [526 120 377 425]]\n",
      "[[ 9900  9831 10048  9810]\n",
      " [10403 10260 10240 10473]\n",
      " [10164  9787 10089 10118]\n",
      " [10284 10203 10571 10632]\n",
      " [ 9628  9554 10036 10016]]\n"
     ]
    }
   ],
   "source": [
    "D, I = index.search(xq, k)     \n",
    "print(I[:5])                   \n",
    "print(I[-5:])                  "
   ]
  },
  {
   "cell_type": "code",
   "execution_count": 256,
   "metadata": {},
   "outputs": [],
   "source": [
    "if []:\n",
    "    print(\"yay\")"
   ]
  },
  {
   "cell_type": "code",
   "execution_count": 135,
   "metadata": {},
   "outputs": [
    {
     "data": {
      "text/plain": [
       "array([[0, 1, 2],\n",
       "       [3, 4, 5],\n",
       "       [6, 7, 8]])"
      ]
     },
     "execution_count": 135,
     "metadata": {},
     "output_type": "execute_result"
    }
   ],
   "source": [
    "arr = np.arange(9).reshape(3, 3)\n",
    "arr"
   ]
  },
  {
   "cell_type": "code",
   "execution_count": 137,
   "metadata": {},
   "outputs": [
    {
     "data": {
      "text/plain": [
       "array([[0., 1., 2.],\n",
       "       [3., 4., 5.],\n",
       "       [6., 7., 8.]], dtype=float32)"
      ]
     },
     "execution_count": 137,
     "metadata": {},
     "output_type": "execute_result"
    }
   ],
   "source": [
    "arr2 = np.ascontiguousarray(arr, 'float32')\n",
    "arr2"
   ]
  },
  {
   "cell_type": "code",
   "execution_count": 162,
   "metadata": {},
   "outputs": [],
   "source": [
    "test = egfr_active_features.sample(n=500, random_state=0)"
   ]
  },
  {
   "cell_type": "code",
   "execution_count": 164,
   "metadata": {},
   "outputs": [
    {
     "data": {
      "text/plain": [
       "True"
      ]
     },
     "execution_count": 164,
     "metadata": {},
     "output_type": "execute_result"
    }
   ],
   "source": [
    "all(i in egfr_active_features.index.values for i in test.index.values)"
   ]
  },
  {
   "cell_type": "markdown",
   "metadata": {},
   "source": [
    "# Logic Creation"
   ]
  },
  {
   "cell_type": "code",
   "execution_count": 328,
   "metadata": {},
   "outputs": [],
   "source": [
    "def knn(rest, sample_from, success, size, n_neighbors, algorithm, metric, seed):\n",
    "    sizer = int(sample_from.shape[0] * size + .5)\n",
    "    #print(size)\n",
    "    query = sample_from.sample(n=sizer, random_state=seed)\n",
    "    sub = list(set(sample_from.index.values) - set(query.index.values))\n",
    "    act_without_query = sample_from.loc[sub]\n",
    "    database = pd.concat([act_without_query]+rest)\n",
    "    \n",
    "    model = neighbors.NearestNeighbors(n_neighbors=n_neighbors, algorithm=algorithm, metric=metric)\n",
    "    start = time.time()\n",
    "    model.fit(database)\n",
    "    end = time.time()\n",
    "    time_to_build = end - start\n",
    "    start = time.time()\n",
    "    _, indices = model.kneighbors(query)\n",
    "    #print(indices[:10])\n",
    "    #print(distances[:10])\n",
    "    end = time.time()\n",
    "    time_to_query = end - start\n",
    "    sum = 0\n",
    "    for i in indices:\n",
    "        count = 0\n",
    "        for j in i:\n",
    "            if database.index.values[j] in success.index.values:\n",
    "                count += 1\n",
    "        sum += count/float(n_neighbors)\n",
    "    average = sum/query.shape[0]\n",
    "    d = OrderedDict({'algorithm/index':[algorithm], 'n_neighbors':[n_neighbors], 'query size':[size], 'metric':[metric], \n",
    "                     'build time (s)':[time_to_build], 'query time (s)':[time_to_query], 'quality':[average], 'seed':[seed]})\n",
    "    \n",
    "    return pd.DataFrame(data=d)"
   ]
  },
  {
   "cell_type": "code",
   "execution_count": null,
   "metadata": {},
   "outputs": [],
   "source": []
  },
  {
   "cell_type": "code",
   "execution_count": 85,
   "metadata": {},
   "outputs": [],
   "source": [
    "def dataprep(active, rest, size, seed):\n",
    "    size = int(active.shape[0] * size + .5)\n",
    "    query = active.sample(n=size, random_state=seed)\n",
    "    sub = list(set(active.index.values) - set(query.index.values))\n",
    "    active_minus_query = active.loc[sub]\n",
    "    database = pd.concat([active_minus_query] + rest)#.astype('float32')\n",
    "    \n",
    "    return database, query"
   ]
  },
  {
   "cell_type": "code",
   "execution_count": 304,
   "metadata": {},
   "outputs": [],
   "source": [
    "def buildFaissModel(database, n_neighbors, index_type, args):\n",
    "    \n",
    "    if args:\n",
    "        index = getattr(faiss, 'Index' + index_type)(database.shape[1], *args)\n",
    "    else:\n",
    "        index = getattr(faiss, 'Index' + index_type)(database.shape[1])\n",
    " \n",
    "    start = time.time()\n",
    "    index.add(np.ascontiguousarray(database.values, 'float32'))\n",
    "    end = time.time()\n",
    "    \n",
    "    build_time = end - start\n",
    "    \n",
    "    return index, build_time\n"
   ]
  },
  {
   "cell_type": "code",
   "execution_count": 222,
   "metadata": {},
   "outputs": [],
   "source": [
    "def runQuery(model, query, k, db, success):\n",
    "    \n",
    "    start = time.time()\n",
    "    distances, indices = model.search(np.ascontiguousarray(query.values, 'float32'), k)\n",
    "    end = time.time()\n",
    "    \n",
    "    query_time = end - start\n",
    "    sum = 0\n",
    "    for i in indices:\n",
    "        count = 0\n",
    "        for j in i:\n",
    "            if db.index.values[j] in success.index.values:\n",
    "                count += 1\n",
    "        sum += count / float(k)\n",
    "    avg = sum / query.shape[0]\n",
    "    \n",
    "    return avg, query_time\n",
    "    "
   ]
  },
  {
   "cell_type": "code",
   "execution_count": 309,
   "metadata": {},
   "outputs": [],
   "source": [
    "def faissNN(active, rest, size, k, index_type, seed, args=[]):\n",
    "    database, query = dataprep(active, rest, size, seed)\n",
    "    model, build_time = buildFaissModel(database, k, index_type, args)\n",
    "    avg, query_time = runQuery(model, query, k, database, active)\n",
    "    \n",
    "    d = OrderedDict({'algorithm/index':[index_type], 'n_neighbors':[k], 'query size':[size], 'build time (s)':[build_time], \n",
    "                     'query time (s)':[query_time], 'quality':[avg], 'seed':[seed]})\n",
    "    \n",
    "    return pd.DataFrame(data=d)\n",
    "    "
   ]
  },
  {
   "cell_type": "code",
   "execution_count": null,
   "metadata": {},
   "outputs": [],
   "source": []
  },
  {
   "cell_type": "code",
   "execution_count": null,
   "metadata": {},
   "outputs": [],
   "source": []
  },
  {
   "cell_type": "code",
   "execution_count": null,
   "metadata": {},
   "outputs": [],
   "source": []
  },
  {
   "cell_type": "code",
   "execution_count": null,
   "metadata": {},
   "outputs": [],
   "source": []
  },
  {
   "cell_type": "code",
   "execution_count": null,
   "metadata": {},
   "outputs": [],
   "source": []
  },
  {
   "cell_type": "markdown",
   "metadata": {},
   "source": [
    "# Tests"
   ]
  },
  {
   "cell_type": "code",
   "execution_count": 334,
   "metadata": {},
   "outputs": [],
   "source": [
    "TABLE_RAW = pd.DataFrame()\n",
    "TABLE_NORM = pd.DataFrame()"
   ]
  },
  {
   "cell_type": "code",
   "execution_count": 335,
   "metadata": {},
   "outputs": [],
   "source": [
    "temp = knn([stuff_cleaned, egfr_inactive_features], egfr_active_features, egfr_active, \n",
    "               0.2, 100, 'brute', 'euclidean', 0)\n",
    "TABLE_RAW = pd.concat([TABLE_RAW, temp])"
   ]
  },
  {
   "cell_type": "code",
   "execution_count": 338,
   "metadata": {},
   "outputs": [],
   "source": [
    "temp = knn([stuff_cleaned_norm, egfr_inactive_features_norm], egfr_active_features_norm, egfr_active, 0.2, 100, 'brute', 'euclidean', 0)\n",
    "\n",
    "TABLE_NORM = pd.concat([TABLE_NORM, temp])"
   ]
  },
  {
   "cell_type": "code",
   "execution_count": null,
   "metadata": {},
   "outputs": [],
   "source": []
  },
  {
   "cell_type": "code",
   "execution_count": null,
   "metadata": {},
   "outputs": [],
   "source": []
  },
  {
   "cell_type": "code",
   "execution_count": null,
   "metadata": {},
   "outputs": [],
   "source": []
  },
  {
   "cell_type": "code",
   "execution_count": null,
   "metadata": {},
   "outputs": [],
   "source": []
  },
  {
   "cell_type": "code",
   "execution_count": null,
   "metadata": {},
   "outputs": [],
   "source": []
  },
  {
   "cell_type": "code",
   "execution_count": 322,
   "metadata": {},
   "outputs": [
    {
     "data": {
      "text/html": [
       "<div>\n",
       "<style scoped>\n",
       "    .dataframe tbody tr th:only-of-type {\n",
       "        vertical-align: middle;\n",
       "    }\n",
       "\n",
       "    .dataframe tbody tr th {\n",
       "        vertical-align: top;\n",
       "    }\n",
       "\n",
       "    .dataframe thead th {\n",
       "        text-align: right;\n",
       "    }\n",
       "</style>\n",
       "<table border=\"1\" class=\"dataframe\">\n",
       "  <thead>\n",
       "    <tr style=\"text-align: right;\">\n",
       "      <th></th>\n",
       "      <th>algorithm/index</th>\n",
       "      <th>n_neighbors</th>\n",
       "      <th>query size</th>\n",
       "      <th>build time (s)</th>\n",
       "      <th>query time (s)</th>\n",
       "      <th>quality</th>\n",
       "      <th>seed</th>\n",
       "    </tr>\n",
       "  </thead>\n",
       "  <tbody>\n",
       "    <tr>\n",
       "      <th>0</th>\n",
       "      <td>FlatL2</td>\n",
       "      <td>100</td>\n",
       "      <td>0.2</td>\n",
       "      <td>1.017363</td>\n",
       "      <td>0.94189</td>\n",
       "      <td>0.236847</td>\n",
       "      <td>0</td>\n",
       "    </tr>\n",
       "  </tbody>\n",
       "</table>\n",
       "</div>"
      ],
      "text/plain": [
       "  algorithm/index  n_neighbors  query size  build time (s)  query time (s)  \\\n",
       "0          FlatL2          100         0.2        1.017363         0.94189   \n",
       "\n",
       "    quality  seed  \n",
       "0  0.236847     0  "
      ]
     },
     "execution_count": 322,
     "metadata": {},
     "output_type": "execute_result"
    }
   ],
   "source": [
    "g = faissNN(egfr_active_features, [egfr_inactive_features, stuff_cleaned], 0.2, 100, 'FlatL2', 0)\n",
    "g"
   ]
  },
  {
   "cell_type": "code",
   "execution_count": null,
   "metadata": {},
   "outputs": [],
   "source": []
  },
  {
   "cell_type": "code",
   "execution_count": null,
   "metadata": {},
   "outputs": [],
   "source": []
  },
  {
   "cell_type": "code",
   "execution_count": null,
   "metadata": {},
   "outputs": [],
   "source": []
  },
  {
   "cell_type": "code",
   "execution_count": null,
   "metadata": {},
   "outputs": [],
   "source": []
  },
  {
   "cell_type": "code",
   "execution_count": null,
   "metadata": {},
   "outputs": [],
   "source": []
  },
  {
   "cell_type": "code",
   "execution_count": 194,
   "metadata": {},
   "outputs": [
    {
     "data": {
      "text/html": [
       "<div>\n",
       "<style scoped>\n",
       "    .dataframe tbody tr th:only-of-type {\n",
       "        vertical-align: middle;\n",
       "    }\n",
       "\n",
       "    .dataframe tbody tr th {\n",
       "        vertical-align: top;\n",
       "    }\n",
       "\n",
       "    .dataframe thead th {\n",
       "        text-align: right;\n",
       "    }\n",
       "</style>\n",
       "<table border=\"1\" class=\"dataframe\">\n",
       "  <thead>\n",
       "    <tr style=\"text-align: right;\">\n",
       "      <th></th>\n",
       "      <th>index</th>\n",
       "      <th>n_neighbors</th>\n",
       "      <th>build time (s)</th>\n",
       "      <th>query time (s)</th>\n",
       "      <th>quality</th>\n",
       "    </tr>\n",
       "  </thead>\n",
       "  <tbody>\n",
       "    <tr>\n",
       "      <th>0</th>\n",
       "      <td>FlatIP</td>\n",
       "      <td>100</td>\n",
       "      <td>1.086015</td>\n",
       "      <td>2.128519</td>\n",
       "      <td>0.997519</td>\n",
       "    </tr>\n",
       "  </tbody>\n",
       "</table>\n",
       "</div>"
      ],
      "text/plain": [
       "    index  n_neighbors  build time (s)  query time (s)   quality\n",
       "0  FlatIP          100        1.086015        2.128519  0.997519"
      ]
     },
     "execution_count": 194,
     "metadata": {},
     "output_type": "execute_result"
    }
   ],
   "source": [
    "faissNN(egfr_active_features_norm, [egfr_inactive_features_norm, stuff_cleaned_norm], 0.2, 100, 'FlatIP', 0)"
   ]
  },
  {
   "cell_type": "code",
   "execution_count": 323,
   "metadata": {},
   "outputs": [
    {
     "data": {
      "text/html": [
       "<div>\n",
       "<style scoped>\n",
       "    .dataframe tbody tr th:only-of-type {\n",
       "        vertical-align: middle;\n",
       "    }\n",
       "\n",
       "    .dataframe tbody tr th {\n",
       "        vertical-align: top;\n",
       "    }\n",
       "\n",
       "    .dataframe thead th {\n",
       "        text-align: right;\n",
       "    }\n",
       "</style>\n",
       "<table border=\"1\" class=\"dataframe\">\n",
       "  <thead>\n",
       "    <tr style=\"text-align: right;\">\n",
       "      <th></th>\n",
       "      <th>algorithm/index</th>\n",
       "      <th>n_neighbors</th>\n",
       "      <th>query size</th>\n",
       "      <th>build time (s)</th>\n",
       "      <th>query time (s)</th>\n",
       "      <th>quality</th>\n",
       "      <th>seed</th>\n",
       "    </tr>\n",
       "  </thead>\n",
       "  <tbody>\n",
       "    <tr>\n",
       "      <th>0</th>\n",
       "      <td>FlatL2</td>\n",
       "      <td>100</td>\n",
       "      <td>0.2</td>\n",
       "      <td>1.056752</td>\n",
       "      <td>0.724189</td>\n",
       "      <td>0.998022</td>\n",
       "      <td>0</td>\n",
       "    </tr>\n",
       "  </tbody>\n",
       "</table>\n",
       "</div>"
      ],
      "text/plain": [
       "  algorithm/index  n_neighbors  query size  build time (s)  query time (s)  \\\n",
       "0          FlatL2          100         0.2        1.056752        0.724189   \n",
       "\n",
       "    quality  seed  \n",
       "0  0.998022     0  "
      ]
     },
     "execution_count": 323,
     "metadata": {},
     "output_type": "execute_result"
    }
   ],
   "source": [
    "g = faissNN(egfr_active_features_norm, [egfr_inactive_features_norm, stuff_cleaned_norm], 0.2, 100, 'FlatL2', 0)\n",
    "g"
   ]
  },
  {
   "cell_type": "code",
   "execution_count": 260,
   "metadata": {},
   "outputs": [
    {
     "data": {
      "text/html": [
       "<div>\n",
       "<style scoped>\n",
       "    .dataframe tbody tr th:only-of-type {\n",
       "        vertical-align: middle;\n",
       "    }\n",
       "\n",
       "    .dataframe tbody tr th {\n",
       "        vertical-align: top;\n",
       "    }\n",
       "\n",
       "    .dataframe thead th {\n",
       "        text-align: right;\n",
       "    }\n",
       "</style>\n",
       "<table border=\"1\" class=\"dataframe\">\n",
       "  <thead>\n",
       "    <tr style=\"text-align: right;\">\n",
       "      <th></th>\n",
       "      <th>index</th>\n",
       "      <th>n_neighbors</th>\n",
       "      <th>build time (s)</th>\n",
       "      <th>query time (s)</th>\n",
       "      <th>quality</th>\n",
       "    </tr>\n",
       "  </thead>\n",
       "  <tbody>\n",
       "    <tr>\n",
       "      <th>0</th>\n",
       "      <td>HNSWFlat</td>\n",
       "      <td>100</td>\n",
       "      <td>36.900793</td>\n",
       "      <td>0.020056</td>\n",
       "      <td>0.9975</td>\n",
       "    </tr>\n",
       "  </tbody>\n",
       "</table>\n",
       "</div>"
      ],
      "text/plain": [
       "      index  n_neighbors  build time (s)  query time (s)  quality\n",
       "0  HNSWFlat          100       36.900793        0.020056   0.9975"
      ]
     },
     "execution_count": 260,
     "metadata": {},
     "output_type": "execute_result"
    }
   ],
   "source": [
    "faissNN(egfr_active_features_norm, [egfr_inactive_features_norm, stuff_cleaned_norm], 0.2, 100, 'HNSWFlat', 0, [32])"
   ]
  },
  {
   "cell_type": "code",
   "execution_count": 265,
   "metadata": {},
   "outputs": [],
   "source": [
    "foo = []\n",
    "for n in range(40, 240, 40):\n",
    "    foo.append(faissNN(egfr_active_features_norm, [egfr_inactive_features_norm, stuff_cleaned_norm], 0.2, n, 'FlatL2', 0))"
   ]
  },
  {
   "cell_type": "code",
   "execution_count": 272,
   "metadata": {},
   "outputs": [
    {
     "data": {
      "text/html": [
       "<div>\n",
       "<style scoped>\n",
       "    .dataframe tbody tr th:only-of-type {\n",
       "        vertical-align: middle;\n",
       "    }\n",
       "\n",
       "    .dataframe tbody tr th {\n",
       "        vertical-align: top;\n",
       "    }\n",
       "\n",
       "    .dataframe thead th {\n",
       "        text-align: right;\n",
       "    }\n",
       "</style>\n",
       "<table border=\"1\" class=\"dataframe\">\n",
       "  <thead>\n",
       "    <tr style=\"text-align: right;\">\n",
       "      <th></th>\n",
       "      <th>index</th>\n",
       "      <th>n_neighbors</th>\n",
       "      <th>build time (s)</th>\n",
       "      <th>query time (s)</th>\n",
       "      <th>quality</th>\n",
       "    </tr>\n",
       "  </thead>\n",
       "  <tbody>\n",
       "    <tr>\n",
       "      <th>0</th>\n",
       "      <td>FlatL2</td>\n",
       "      <td>40</td>\n",
       "      <td>0.990923</td>\n",
       "      <td>0.715928</td>\n",
       "      <td>0.997854</td>\n",
       "    </tr>\n",
       "    <tr>\n",
       "      <th>0</th>\n",
       "      <td>FlatL2</td>\n",
       "      <td>80</td>\n",
       "      <td>0.913530</td>\n",
       "      <td>0.692116</td>\n",
       "      <td>0.997994</td>\n",
       "    </tr>\n",
       "    <tr>\n",
       "      <th>0</th>\n",
       "      <td>FlatL2</td>\n",
       "      <td>120</td>\n",
       "      <td>0.901195</td>\n",
       "      <td>0.692259</td>\n",
       "      <td>0.998057</td>\n",
       "    </tr>\n",
       "    <tr>\n",
       "      <th>0</th>\n",
       "      <td>FlatL2</td>\n",
       "      <td>160</td>\n",
       "      <td>0.907972</td>\n",
       "      <td>0.690939</td>\n",
       "      <td>0.998088</td>\n",
       "    </tr>\n",
       "    <tr>\n",
       "      <th>0</th>\n",
       "      <td>FlatL2</td>\n",
       "      <td>200</td>\n",
       "      <td>0.941866</td>\n",
       "      <td>0.707465</td>\n",
       "      <td>0.998106</td>\n",
       "    </tr>\n",
       "  </tbody>\n",
       "</table>\n",
       "</div>"
      ],
      "text/plain": [
       "    index  n_neighbors  build time (s)  query time (s)   quality\n",
       "0  FlatL2           40        0.990923        0.715928  0.997854\n",
       "0  FlatL2           80        0.913530        0.692116  0.997994\n",
       "0  FlatL2          120        0.901195        0.692259  0.998057\n",
       "0  FlatL2          160        0.907972        0.690939  0.998088\n",
       "0  FlatL2          200        0.941866        0.707465  0.998106"
      ]
     },
     "execution_count": 272,
     "metadata": {},
     "output_type": "execute_result"
    }
   ],
   "source": [
    "a = pd.concat(foo)\n",
    "a"
   ]
  },
  {
   "cell_type": "code",
   "execution_count": 277,
   "metadata": {},
   "outputs": [
    {
     "data": {
      "image/png": "[encoded data removed]",
      "text/plain": [
       "<Figure size 432x288 with 1 Axes>"
      ]
     },
     "metadata": {},
     "output_type": "display_data"
    }
   ],
   "source": [
    "plt.figure()\n",
    "plt.scatter(a['n_neighbors'], a['quality'])\n",
    "plt.xlabel('n_neighbors')\n",
    "plt.ylabel('quality')\n",
    "plt.ylim(0.9978, 0.9982)\n",
    "plt.show()"
   ]
  },
  {
   "cell_type": "code",
   "execution_count": 288,
   "metadata": {},
   "outputs": [],
   "source": [
    "bar = []\n",
    "for prop in np.arange(0.5, 0, -0.05):\n",
    "    bar.append(faissNN(egfr_active_features_norm, [egfr_inactive_features_norm, stuff_cleaned_norm], prop, 100, 'FlatL2', 0))"
   ]
  },
  {
   "cell_type": "code",
   "execution_count": 289,
   "metadata": {},
   "outputs": [
    {
     "data": {
      "text/html": [
       "<div>\n",
       "<style scoped>\n",
       "    .dataframe tbody tr th:only-of-type {\n",
       "        vertical-align: middle;\n",
       "    }\n",
       "\n",
       "    .dataframe tbody tr th {\n",
       "        vertical-align: top;\n",
       "    }\n",
       "\n",
       "    .dataframe thead th {\n",
       "        text-align: right;\n",
       "    }\n",
       "</style>\n",
       "<table border=\"1\" class=\"dataframe\">\n",
       "  <thead>\n",
       "    <tr style=\"text-align: right;\">\n",
       "      <th></th>\n",
       "      <th>index</th>\n",
       "      <th>n_neighbors</th>\n",
       "      <th>query size</th>\n",
       "      <th>build time (s)</th>\n",
       "      <th>query time (s)</th>\n",
       "      <th>quality</th>\n",
       "    </tr>\n",
       "  </thead>\n",
       "  <tbody>\n",
       "    <tr>\n",
       "      <th>0</th>\n",
       "      <td>FlatL2</td>\n",
       "      <td>100</td>\n",
       "      <td>0.50</td>\n",
       "      <td>1.082225</td>\n",
       "      <td>1.920226</td>\n",
       "      <td>0.998193</td>\n",
       "    </tr>\n",
       "    <tr>\n",
       "      <th>0</th>\n",
       "      <td>FlatL2</td>\n",
       "      <td>100</td>\n",
       "      <td>0.45</td>\n",
       "      <td>1.039547</td>\n",
       "      <td>1.804904</td>\n",
       "      <td>0.998830</td>\n",
       "    </tr>\n",
       "    <tr>\n",
       "      <th>0</th>\n",
       "      <td>FlatL2</td>\n",
       "      <td>100</td>\n",
       "      <td>0.40</td>\n",
       "      <td>1.049870</td>\n",
       "      <td>1.433945</td>\n",
       "      <td>0.998786</td>\n",
       "    </tr>\n",
       "    <tr>\n",
       "      <th>0</th>\n",
       "      <td>FlatL2</td>\n",
       "      <td>100</td>\n",
       "      <td>0.35</td>\n",
       "      <td>1.097750</td>\n",
       "      <td>1.672957</td>\n",
       "      <td>0.998613</td>\n",
       "    </tr>\n",
       "    <tr>\n",
       "      <th>0</th>\n",
       "      <td>FlatL2</td>\n",
       "      <td>100</td>\n",
       "      <td>0.30</td>\n",
       "      <td>1.048418</td>\n",
       "      <td>1.092378</td>\n",
       "      <td>0.998555</td>\n",
       "    </tr>\n",
       "    <tr>\n",
       "      <th>0</th>\n",
       "      <td>FlatL2</td>\n",
       "      <td>100</td>\n",
       "      <td>0.25</td>\n",
       "      <td>0.951591</td>\n",
       "      <td>0.892275</td>\n",
       "      <td>0.998269</td>\n",
       "    </tr>\n",
       "    <tr>\n",
       "      <th>0</th>\n",
       "      <td>FlatL2</td>\n",
       "      <td>100</td>\n",
       "      <td>0.20</td>\n",
       "      <td>0.967994</td>\n",
       "      <td>0.790984</td>\n",
       "      <td>0.998022</td>\n",
       "    </tr>\n",
       "    <tr>\n",
       "      <th>0</th>\n",
       "      <td>FlatL2</td>\n",
       "      <td>100</td>\n",
       "      <td>0.15</td>\n",
       "      <td>0.893539</td>\n",
       "      <td>0.528824</td>\n",
       "      <td>0.999751</td>\n",
       "    </tr>\n",
       "    <tr>\n",
       "      <th>0</th>\n",
       "      <td>FlatL2</td>\n",
       "      <td>100</td>\n",
       "      <td>0.10</td>\n",
       "      <td>1.013566</td>\n",
       "      <td>0.411136</td>\n",
       "      <td>1.000000</td>\n",
       "    </tr>\n",
       "    <tr>\n",
       "      <th>0</th>\n",
       "      <td>FlatL2</td>\n",
       "      <td>100</td>\n",
       "      <td>0.05</td>\n",
       "      <td>0.997247</td>\n",
       "      <td>0.284062</td>\n",
       "      <td>1.000000</td>\n",
       "    </tr>\n",
       "  </tbody>\n",
       "</table>\n",
       "</div>"
      ],
      "text/plain": [
       "    index  n_neighbors  query size  build time (s)  query time (s)   quality\n",
       "0  FlatL2          100        0.50        1.082225        1.920226  0.998193\n",
       "0  FlatL2          100        0.45        1.039547        1.804904  0.998830\n",
       "0  FlatL2          100        0.40        1.049870        1.433945  0.998786\n",
       "0  FlatL2          100        0.35        1.097750        1.672957  0.998613\n",
       "0  FlatL2          100        0.30        1.048418        1.092378  0.998555\n",
       "0  FlatL2          100        0.25        0.951591        0.892275  0.998269\n",
       "0  FlatL2          100        0.20        0.967994        0.790984  0.998022\n",
       "0  FlatL2          100        0.15        0.893539        0.528824  0.999751\n",
       "0  FlatL2          100        0.10        1.013566        0.411136  1.000000\n",
       "0  FlatL2          100        0.05        0.997247        0.284062  1.000000"
      ]
     },
     "execution_count": 289,
     "metadata": {},
     "output_type": "execute_result"
    }
   ],
   "source": [
    "b = pd.concat(bar)\n",
    "b"
   ]
  },
  {
   "cell_type": "code",
   "execution_count": 290,
   "metadata": {},
   "outputs": [
    {
     "data": {
      "image/png": "[encoded data removed]",
      "text/plain": [
       "<Figure size 432x288 with 1 Axes>"
      ]
     },
     "metadata": {},
     "output_type": "display_data"
    }
   ],
   "source": [
    "plt.figure()\n",
    "plt.scatter(b['query size'], b['quality'])\n",
    "plt.xlabel('query size')\n",
    "plt.ylabel('quality')\n",
    "plt.ylim(0.998, 1)\n",
    "plt.show()"
   ]
  },
  {
   "cell_type": "code",
   "execution_count": 306,
   "metadata": {},
   "outputs": [],
   "source": [
    "foo = []\n",
    "for index in ['FlatL2', 'FlatIP']:\n",
    "    for seed in range(5):\n",
    "        foo.append(faissNN(egfr_active_features_norm, [egfr_inactive_features_norm, stuff_cleaned_norm], 0.2, 100, index, seed))\n"
   ]
  },
  {
   "cell_type": "code",
   "execution_count": 307,
   "metadata": {},
   "outputs": [
    {
     "data": {
      "text/html": [
       "<div>\n",
       "<style scoped>\n",
       "    .dataframe tbody tr th:only-of-type {\n",
       "        vertical-align: middle;\n",
       "    }\n",
       "\n",
       "    .dataframe tbody tr th {\n",
       "        vertical-align: top;\n",
       "    }\n",
       "\n",
       "    .dataframe thead th {\n",
       "        text-align: right;\n",
       "    }\n",
       "</style>\n",
       "<table border=\"1\" class=\"dataframe\">\n",
       "  <thead>\n",
       "    <tr style=\"text-align: right;\">\n",
       "      <th></th>\n",
       "      <th>index</th>\n",
       "      <th>n_neighbors</th>\n",
       "      <th>query size</th>\n",
       "      <th>build time (s)</th>\n",
       "      <th>query time (s)</th>\n",
       "      <th>quality</th>\n",
       "      <th>seed</th>\n",
       "    </tr>\n",
       "  </thead>\n",
       "  <tbody>\n",
       "    <tr>\n",
       "      <th>0</th>\n",
       "      <td>FlatL2</td>\n",
       "      <td>100</td>\n",
       "      <td>0.2</td>\n",
       "      <td>1.001927</td>\n",
       "      <td>0.870405</td>\n",
       "      <td>0.998022</td>\n",
       "      <td>0</td>\n",
       "    </tr>\n",
       "    <tr>\n",
       "      <th>0</th>\n",
       "      <td>FlatL2</td>\n",
       "      <td>100</td>\n",
       "      <td>0.2</td>\n",
       "      <td>1.665274</td>\n",
       "      <td>1.108037</td>\n",
       "      <td>0.996231</td>\n",
       "      <td>1</td>\n",
       "    </tr>\n",
       "    <tr>\n",
       "      <th>0</th>\n",
       "      <td>FlatL2</td>\n",
       "      <td>100</td>\n",
       "      <td>0.2</td>\n",
       "      <td>1.055483</td>\n",
       "      <td>0.799595</td>\n",
       "      <td>0.997836</td>\n",
       "      <td>2</td>\n",
       "    </tr>\n",
       "    <tr>\n",
       "      <th>0</th>\n",
       "      <td>FlatL2</td>\n",
       "      <td>100</td>\n",
       "      <td>0.2</td>\n",
       "      <td>1.030599</td>\n",
       "      <td>0.776447</td>\n",
       "      <td>0.998507</td>\n",
       "      <td>3</td>\n",
       "    </tr>\n",
       "    <tr>\n",
       "      <th>0</th>\n",
       "      <td>FlatL2</td>\n",
       "      <td>100</td>\n",
       "      <td>0.2</td>\n",
       "      <td>1.289508</td>\n",
       "      <td>0.892762</td>\n",
       "      <td>0.998433</td>\n",
       "      <td>4</td>\n",
       "    </tr>\n",
       "    <tr>\n",
       "      <th>0</th>\n",
       "      <td>FlatIP</td>\n",
       "      <td>100</td>\n",
       "      <td>0.2</td>\n",
       "      <td>1.369143</td>\n",
       "      <td>1.110771</td>\n",
       "      <td>0.997519</td>\n",
       "      <td>0</td>\n",
       "    </tr>\n",
       "    <tr>\n",
       "      <th>0</th>\n",
       "      <td>FlatIP</td>\n",
       "      <td>100</td>\n",
       "      <td>0.2</td>\n",
       "      <td>1.518715</td>\n",
       "      <td>0.942178</td>\n",
       "      <td>0.996045</td>\n",
       "      <td>1</td>\n",
       "    </tr>\n",
       "    <tr>\n",
       "      <th>0</th>\n",
       "      <td>FlatIP</td>\n",
       "      <td>100</td>\n",
       "      <td>0.2</td>\n",
       "      <td>1.115853</td>\n",
       "      <td>0.759523</td>\n",
       "      <td>0.997369</td>\n",
       "      <td>2</td>\n",
       "    </tr>\n",
       "    <tr>\n",
       "      <th>0</th>\n",
       "      <td>FlatIP</td>\n",
       "      <td>100</td>\n",
       "      <td>0.2</td>\n",
       "      <td>1.040860</td>\n",
       "      <td>0.705303</td>\n",
       "      <td>0.999608</td>\n",
       "      <td>3</td>\n",
       "    </tr>\n",
       "    <tr>\n",
       "      <th>0</th>\n",
       "      <td>FlatIP</td>\n",
       "      <td>100</td>\n",
       "      <td>0.2</td>\n",
       "      <td>1.040643</td>\n",
       "      <td>0.667181</td>\n",
       "      <td>0.999384</td>\n",
       "      <td>4</td>\n",
       "    </tr>\n",
       "  </tbody>\n",
       "</table>\n",
       "</div>"
      ],
      "text/plain": [
       "    index  n_neighbors  query size  build time (s)  query time (s)   quality  \\\n",
       "0  FlatL2          100         0.2        1.001927        0.870405  0.998022   \n",
       "0  FlatL2          100         0.2        1.665274        1.108037  0.996231   \n",
       "0  FlatL2          100         0.2        1.055483        0.799595  0.997836   \n",
       "0  FlatL2          100         0.2        1.030599        0.776447  0.998507   \n",
       "0  FlatL2          100         0.2        1.289508        0.892762  0.998433   \n",
       "0  FlatIP          100         0.2        1.369143        1.110771  0.997519   \n",
       "0  FlatIP          100         0.2        1.518715        0.942178  0.996045   \n",
       "0  FlatIP          100         0.2        1.115853        0.759523  0.997369   \n",
       "0  FlatIP          100         0.2        1.040860        0.705303  0.999608   \n",
       "0  FlatIP          100         0.2        1.040643        0.667181  0.999384   \n",
       "\n",
       "   seed  \n",
       "0     0  \n",
       "0     1  \n",
       "0     2  \n",
       "0     3  \n",
       "0     4  \n",
       "0     0  \n",
       "0     1  \n",
       "0     2  \n",
       "0     3  \n",
       "0     4  "
      ]
     },
     "execution_count": 307,
     "metadata": {},
     "output_type": "execute_result"
    }
   ],
   "source": [
    "c = pd.concat(foo)\n",
    "c"
   ]
  },
  {
   "cell_type": "code",
   "execution_count": 308,
   "metadata": {},
   "outputs": [
    {
     "data": {
      "image/png": "[encoded data removed]",
      "text/plain": [
       "<Figure size 432x288 with 1 Axes>"
      ]
     },
     "metadata": {},
     "output_type": "display_data"
    }
   ],
   "source": [
    "plt.figure()\n",
    "plt.boxplot([c['quality'][:5], c['quality'][5:]])\n",
    "plt.xticks([1, 2] ,['FlatL2', 'FlatIP'])\n",
    "plt.show()"
   ]
  }
 ],
 "metadata": {
  "kernelspec": {
   "display_name": "Python 3",
   "language": "python",
   "name": "python3"
  },
  "language_info": {
   "codemirror_mode": {
    "name": "ipython",
    "version": 3
   },
   "file_extension": ".py",
   "mimetype": "text/x-python",
   "name": "python",
   "nbconvert_exporter": "python",
   "pygments_lexer": "ipython3",
   "version": "3.6.5"
  }
 },
 "nbformat": 4,
 "nbformat_minor": 2
}
