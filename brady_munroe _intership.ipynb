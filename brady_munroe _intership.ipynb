{
 "cells": [
  {
   "cell_type": "markdown",
   "metadata": {},
   "source": [
    "# Intership for Senior High School Student"
   ]
  },
  {
   "cell_type": "markdown",
   "metadata": {},
   "source": [
    "- Week 1: Tue-Fri\n",
    "- Week 2: Tue, Thur\n",
    "- Week 3: Tue-Fri\n",
    "- Week 4: Mon-Fri"
   ]
  },
  {
   "cell_type": "markdown",
   "metadata": {},
   "source": [
    "## Week 1, Day 1"
   ]
  },
  {
   "cell_type": "markdown",
   "metadata": {},
   "source": [
    "- Purpose of the intership\n",
    " - [Data Scientist Types](https://www.kdnuggets.com/2015/11/different-data-science-roles-industry.html)\n",
    " - [Introduction to machine learning](http://www.r2d3.us/visual-intro-to-machine-learning-part-1/)\n",
    " - [Practical example of machine learning](http://www.r2d3.us/decision-trees-part-1-v1/)\n",
    "\n",
    "\n",
    "- Common tools for data scientist\n",
    " - [Linux + Linux command line](https://www.datascienceatthecommandline.com/)\n",
    " - [Interactive programming](https://jupyter-notebook-beginner-guide.readthedocs.io/en/latest/)\n",
    " - [Markdown](https://www.markdownguide.org/)\n",
    " - [Git and code version](https://git-scm.com/book/en/v2/Getting-Started-Git-Basics)"
   ]
  },
  {
   "cell_type": "markdown",
   "metadata": {},
   "source": [
    "## Week 1, Day 2"
   ]
  },
  {
   "cell_type": "markdown",
   "metadata": {},
   "source": [
    "- Challenges in data science"
   ]
  },
  {
   "cell_type": "code",
   "execution_count": null,
   "metadata": {},
   "outputs": [],
   "source": []
  }
 ],
 "metadata": {
  "kernelspec": {
   "display_name": "Python 3",
   "language": "python",
   "name": "python3"
  },
  "language_info": {
   "codemirror_mode": {
    "name": "ipython",
    "version": 3
   },
   "file_extension": ".py",
   "mimetype": "text/x-python",
   "name": "python",
   "nbconvert_exporter": "python",
   "pygments_lexer": "ipython3",
   "version": "3.6.5"
  }
 },
 "nbformat": 4,
 "nbformat_minor": 2
}
