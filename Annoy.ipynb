{
 "cells": [
  {
   "cell_type": "code",
   "execution_count": 2,
   "metadata": {},
   "outputs": [],
   "source": [
    "import numpy as np\n",
    "import pandas as pd\n",
    "import time\n",
    "from collections import OrderedDict\n",
    "from sklearn import preprocessing\n",
    "from matplotlib import pyplot as plt\n",
    "import annoy"
   ]
  },
  {
   "cell_type": "markdown",
   "metadata": {},
   "source": [
    "# Data Preparation"
   ]
  },
  {
   "cell_type": "code",
   "execution_count": 3,
   "metadata": {},
   "outputs": [
    {
     "name": "stdout",
     "output_type": "stream",
     "text": [
      "CPU times: user 24.2 s, sys: 3.92 s, total: 28.1 s\n",
      "Wall time: 29.1 s\n"
     ]
    }
   ],
   "source": [
    "%%time\n",
    "#200000 compounds with 469 features\n",
    "all_features = pd.read_csv(\"c2vpoint2m.txt.gz\", sep=\"\\t\", header=None)"
   ]
  },
  {
   "cell_type": "code",
   "execution_count": 4,
   "metadata": {},
   "outputs": [],
   "source": [
    "#make the compound names the index\n",
    "all_features.set_index(0, inplace=True)"
   ]
  },
  {
   "cell_type": "code",
   "execution_count": 5,
   "metadata": {},
   "outputs": [
    {
     "name": "stdout",
     "output_type": "stream",
     "text": [
      "CPU times: user 27.8 s, sys: 8.45 s, total: 36.3 s\n",
      "Wall time: 37.5 s\n"
     ]
    }
   ],
   "source": [
    "%%time\n",
    "#725634 compounds with target and activity\n",
    "cgan = pd.read_csv(\"activities.txt.gz\", sep=\"\\t\")"
   ]
  },
  {
   "cell_type": "code",
   "execution_count": 6,
   "metadata": {},
   "outputs": [],
   "source": [
    "#we are only interested in the compounds whose target is EGFR\n",
    "egfr_activity = cgan[cgan['target'] == 'EGFR'].set_index('compound')"
   ]
  },
  {
   "cell_type": "code",
   "execution_count": 7,
   "metadata": {},
   "outputs": [],
   "source": [
    "#separate into two dataframes, one with active compounds\n",
    "egfr_active = egfr_activity[egfr_activity['activity'] >= 6]\n",
    "egfr_active_compounds = egfr_active.index.values"
   ]
  },
  {
   "cell_type": "code",
   "execution_count": 8,
   "metadata": {},
   "outputs": [],
   "source": [
    "#and one with inactive ones\n",
    "egfr_inactive = egfr_activity[egfr_activity['activity']  < 6]\n",
    "egfr_inactive_compounds = egfr_inactive.index.values"
   ]
  },
  {
   "cell_type": "code",
   "execution_count": 9,
   "metadata": {},
   "outputs": [],
   "source": [
    "#5275 compounds with EGFR target and 469 features\n",
    "egfr_features = pd.read_csv(\"egfr.c2v.txt\", sep=\"\\t\", header=None).set_index(0)"
   ]
  },
  {
   "cell_type": "code",
   "execution_count": 10,
   "metadata": {},
   "outputs": [],
   "source": [
    "#isolate the names for easier access\n",
    "egfr_compounds = egfr_features.index.values"
   ]
  },
  {
   "cell_type": "code",
   "execution_count": 11,
   "metadata": {},
   "outputs": [],
   "source": [
    "#make dataframes with features for the active and inactive compounds\n",
    "egfr_active_features = egfr_features.loc[egfr_active_compounds]\n",
    "egfr_inactive_features = egfr_features.loc[egfr_inactive_compounds]"
   ]
  },
  {
   "cell_type": "code",
   "execution_count": 12,
   "metadata": {},
   "outputs": [],
   "source": [
    "#scale the data so that each feature is normalized and can be compared to other features\n",
    "min_max_scaler = preprocessing.MinMaxScaler() #fits data between 0 and 1"
   ]
  },
  {
   "cell_type": "code",
   "execution_count": 13,
   "metadata": {},
   "outputs": [],
   "source": [
    "#normalize the active compounds\n",
    "egfr_active_features_norm = pd.DataFrame(min_max_scaler.fit_transform(egfr_active_features), \n",
    "                                         index=egfr_active_features.index)"
   ]
  },
  {
   "cell_type": "code",
   "execution_count": 14,
   "metadata": {},
   "outputs": [],
   "source": [
    "#normalize the inactive compounds\n",
    "egfr_inactive_features_norm = pd.DataFrame(min_max_scaler.fit_transform(egfr_inactive_features), \n",
    "                                           index=egfr_inactive_features.index)"
   ]
  },
  {
   "cell_type": "code",
   "execution_count": 15,
   "metadata": {},
   "outputs": [],
   "source": [
    "#remove duplicates from all_features - can also use DataFrame.drop_duplicates()\n",
    "all_features_cleaned = all_features.loc[list(set(all_features.index.values) - set(egfr_compounds))]"
   ]
  },
  {
   "cell_type": "code",
   "execution_count": 16,
   "metadata": {},
   "outputs": [],
   "source": [
    "#normalize the database\n",
    "all_features_cleaned_norm = pd.DataFrame(min_max_scaler.fit_transform(all_features_cleaned), index=all_features_cleaned.index)"
   ]
  },
  {
   "cell_type": "markdown",
   "metadata": {},
   "source": [
    "# Logic Creation"
   ]
  },
  {
   "cell_type": "code",
   "execution_count": 17,
   "metadata": {},
   "outputs": [],
   "source": [
    "def dataprep(active, rest, size, seed):\n",
    "    #create the query from a random sample of the data\n",
    "    size = int(active.shape[0] * size + .5)\n",
    "    query = active.sample(n=size, random_state=seed)\n",
    "    \n",
    "    #remove the query, then concatenate the remaining data for training\n",
    "    sub = list(set(active.index.values) - set(query.index.values))\n",
    "    active_minus_query = active.loc[sub]\n",
    "    database = pd.concat([active_minus_query] + rest)\n",
    "    \n",
    "    return database, query"
   ]
  },
  {
   "cell_type": "code",
   "execution_count": 18,
   "metadata": {},
   "outputs": [],
   "source": [
    "def buildAnnoyModel(database, n_neighbors, metric, n_trees):\n",
    "    #create model - first argument is the length of the vectors\n",
    "    index = annoy.AnnoyIndex(database.shape[1], metric=metric)\n",
    "    \n",
    "    #add training data\n",
    "    start = time.time()\n",
    "    \n",
    "    #note that this is much slower than the other models because the data must be\n",
    "    #added row-by-row instead of the entire database at once\n",
    "    for i in range(database.shape[0]):\n",
    "        index.add_item(i, database.loc[database.index.values[i]])\n",
    "    \n",
    "    #build trees\n",
    "    index.build(n_trees)\n",
    "    end = time.time()\n",
    "    \n",
    "    build_time = end - start\n",
    "    \n",
    "    return index, build_time"
   ]
  },
  {
   "cell_type": "code",
   "execution_count": 23,
   "metadata": {},
   "outputs": [],
   "source": [
    "def runAnnoyQuery(model, query, n_neighbors, database, active):\n",
    "    indices = []\n",
    "    \n",
    "    #run query\n",
    "    start = time.time()\n",
    "    for j in range(query.shape[0]):\n",
    "        i = model.get_nns_by_vector(query.loc[query.index.values[j]], n_neighbors)\n",
    "        indices.append(i)\n",
    "    end = time.time()\n",
    "    \n",
    "    query_time  = end - start\n",
    "    \n",
    "    #assess the quality of the results - how many of the neighbors are in the success dataframe\n",
    "    sum = 0\n",
    "    for i in indices:\n",
    "        count = 0\n",
    "        for j in i:\n",
    "            if database.index.values[j] in active.index.values:\n",
    "                count += 1\n",
    "        sum += count / float(n_neighbors)\n",
    "    average = sum / query.shape[0]\n",
    "    \n",
    "    return average, query_time"
   ]
  },
  {
   "cell_type": "code",
   "execution_count": 24,
   "metadata": {},
   "outputs": [],
   "source": [
    "#active: the dataframe containing the compounds that you want to receive back: in this case, egfr_active\n",
    "#rest: a list of other dataframes that will complete the database\n",
    "#size: proportion of active that is sampled for the query\n",
    "#n_neighbors: the number of neighbors found for each compound in the query\n",
    "#metric: the distance metric used for the model\n",
    "#n_trees: the number of trees built in the model\n",
    "#seed: the random seed used for sampling\n",
    "def annoyNN(active, rest, size, n_neighbors, metric, n_trees, seed):\n",
    "    #prepare the data\n",
    "    database, query = dataprep(active, rest, size, seed)\n",
    "    \n",
    "    #build the model\n",
    "    model, build_time = buildAnnoyModel(database, n_neighbors, metric, n_trees)\n",
    "    \n",
    "    #run the query\n",
    "    average, query_time = runAnnoyQuery(model, query, n_neighbors, database, active)\n",
    " \n",
    "    #return the results in a table\n",
    "    d = OrderedDict({'algorithm/index':['Annoy' + ' (' + str(n_trees) + ' trees)'], 'metric':[metric], \n",
    "                     'n_neighbors':[n_neighbors], 'query size':[size], 'build time (s)':[build_time], \n",
    "                     'query time (s)':[query_time], 'quality':[average], 'seed':[seed]})\n",
    "    \n",
    "    return pd.DataFrame(data=d)"
   ]
  },
  {
   "cell_type": "markdown",
   "metadata": {},
   "source": [
    "# Tests"
   ]
  },
  {
   "cell_type": "code",
   "execution_count": 25,
   "metadata": {},
   "outputs": [],
   "source": [
    "annoy_results = pd.DataFrame()"
   ]
  },
  {
   "cell_type": "code",
   "execution_count": 26,
   "metadata": {},
   "outputs": [
    {
     "data": {
      "text/html": [
       "<div>\n",
       "<style scoped>\n",
       "    .dataframe tbody tr th:only-of-type {\n",
       "        vertical-align: middle;\n",
       "    }\n",
       "\n",
       "    .dataframe tbody tr th {\n",
       "        vertical-align: top;\n",
       "    }\n",
       "\n",
       "    .dataframe thead th {\n",
       "        text-align: right;\n",
       "    }\n",
       "</style>\n",
       "<table border=\"1\" class=\"dataframe\">\n",
       "  <thead>\n",
       "    <tr style=\"text-align: right;\">\n",
       "      <th></th>\n",
       "      <th>algorithm/index</th>\n",
       "      <th>metric</th>\n",
       "      <th>n_neighbors</th>\n",
       "      <th>query size</th>\n",
       "      <th>build time (s)</th>\n",
       "      <th>query time (s)</th>\n",
       "      <th>quality</th>\n",
       "      <th>seed</th>\n",
       "    </tr>\n",
       "  </thead>\n",
       "  <tbody>\n",
       "    <tr>\n",
       "      <th>0</th>\n",
       "      <td>Annoy (5 trees)</td>\n",
       "      <td>angular</td>\n",
       "      <td>100</td>\n",
       "      <td>0.2</td>\n",
       "      <td>723.482300</td>\n",
       "      <td>2.058579</td>\n",
       "      <td>0.998246</td>\n",
       "      <td>0</td>\n",
       "    </tr>\n",
       "    <tr>\n",
       "      <th>0</th>\n",
       "      <td>Annoy (10 trees)</td>\n",
       "      <td>angular</td>\n",
       "      <td>100</td>\n",
       "      <td>0.2</td>\n",
       "      <td>730.550405</td>\n",
       "      <td>2.304622</td>\n",
       "      <td>0.998153</td>\n",
       "      <td>0</td>\n",
       "    </tr>\n",
       "    <tr>\n",
       "      <th>0</th>\n",
       "      <td>Annoy (20 trees)</td>\n",
       "      <td>angular</td>\n",
       "      <td>100</td>\n",
       "      <td>0.2</td>\n",
       "      <td>732.995871</td>\n",
       "      <td>2.252247</td>\n",
       "      <td>0.998153</td>\n",
       "      <td>0</td>\n",
       "    </tr>\n",
       "    <tr>\n",
       "      <th>0</th>\n",
       "      <td>Annoy (5 trees)</td>\n",
       "      <td>euclidean</td>\n",
       "      <td>100</td>\n",
       "      <td>0.2</td>\n",
       "      <td>723.889000</td>\n",
       "      <td>1.994144</td>\n",
       "      <td>0.998190</td>\n",
       "      <td>0</td>\n",
       "    </tr>\n",
       "    <tr>\n",
       "      <th>0</th>\n",
       "      <td>Annoy (10 trees)</td>\n",
       "      <td>euclidean</td>\n",
       "      <td>100</td>\n",
       "      <td>0.2</td>\n",
       "      <td>724.186985</td>\n",
       "      <td>2.036737</td>\n",
       "      <td>0.998190</td>\n",
       "      <td>0</td>\n",
       "    </tr>\n",
       "    <tr>\n",
       "      <th>0</th>\n",
       "      <td>Annoy (20 trees)</td>\n",
       "      <td>euclidean</td>\n",
       "      <td>100</td>\n",
       "      <td>0.2</td>\n",
       "      <td>725.322108</td>\n",
       "      <td>2.462112</td>\n",
       "      <td>0.998190</td>\n",
       "      <td>0</td>\n",
       "    </tr>\n",
       "    <tr>\n",
       "      <th>0</th>\n",
       "      <td>Annoy (5 trees)</td>\n",
       "      <td>manhattan</td>\n",
       "      <td>100</td>\n",
       "      <td>0.2</td>\n",
       "      <td>721.212340</td>\n",
       "      <td>2.006412</td>\n",
       "      <td>0.998153</td>\n",
       "      <td>0</td>\n",
       "    </tr>\n",
       "    <tr>\n",
       "      <th>0</th>\n",
       "      <td>Annoy (10 trees)</td>\n",
       "      <td>manhattan</td>\n",
       "      <td>100</td>\n",
       "      <td>0.2</td>\n",
       "      <td>723.780788</td>\n",
       "      <td>2.047477</td>\n",
       "      <td>0.998153</td>\n",
       "      <td>0</td>\n",
       "    </tr>\n",
       "    <tr>\n",
       "      <th>0</th>\n",
       "      <td>Annoy (20 trees)</td>\n",
       "      <td>manhattan</td>\n",
       "      <td>100</td>\n",
       "      <td>0.2</td>\n",
       "      <td>729.862504</td>\n",
       "      <td>2.130785</td>\n",
       "      <td>0.998190</td>\n",
       "      <td>0</td>\n",
       "    </tr>\n",
       "    <tr>\n",
       "      <th>0</th>\n",
       "      <td>Annoy (5 trees)</td>\n",
       "      <td>hamming</td>\n",
       "      <td>100</td>\n",
       "      <td>0.2</td>\n",
       "      <td>794.426924</td>\n",
       "      <td>7.118552</td>\n",
       "      <td>0.997985</td>\n",
       "      <td>0</td>\n",
       "    </tr>\n",
       "    <tr>\n",
       "      <th>0</th>\n",
       "      <td>Annoy (10 trees)</td>\n",
       "      <td>hamming</td>\n",
       "      <td>100</td>\n",
       "      <td>0.2</td>\n",
       "      <td>740.595513</td>\n",
       "      <td>2.057580</td>\n",
       "      <td>0.998004</td>\n",
       "      <td>0</td>\n",
       "    </tr>\n",
       "    <tr>\n",
       "      <th>0</th>\n",
       "      <td>Annoy (20 trees)</td>\n",
       "      <td>hamming</td>\n",
       "      <td>100</td>\n",
       "      <td>0.2</td>\n",
       "      <td>765.426694</td>\n",
       "      <td>2.033044</td>\n",
       "      <td>0.998041</td>\n",
       "      <td>0</td>\n",
       "    </tr>\n",
       "  </tbody>\n",
       "</table>\n",
       "</div>"
      ],
      "text/plain": [
       "    algorithm/index     metric  n_neighbors  query size  build time (s)  \\\n",
       "0   Annoy (5 trees)    angular          100         0.2      723.482300   \n",
       "0  Annoy (10 trees)    angular          100         0.2      730.550405   \n",
       "0  Annoy (20 trees)    angular          100         0.2      732.995871   \n",
       "0   Annoy (5 trees)  euclidean          100         0.2      723.889000   \n",
       "0  Annoy (10 trees)  euclidean          100         0.2      724.186985   \n",
       "0  Annoy (20 trees)  euclidean          100         0.2      725.322108   \n",
       "0   Annoy (5 trees)  manhattan          100         0.2      721.212340   \n",
       "0  Annoy (10 trees)  manhattan          100         0.2      723.780788   \n",
       "0  Annoy (20 trees)  manhattan          100         0.2      729.862504   \n",
       "0   Annoy (5 trees)    hamming          100         0.2      794.426924   \n",
       "0  Annoy (10 trees)    hamming          100         0.2      740.595513   \n",
       "0  Annoy (20 trees)    hamming          100         0.2      765.426694   \n",
       "\n",
       "   query time (s)   quality  seed  \n",
       "0        2.058579  0.998246     0  \n",
       "0        2.304622  0.998153     0  \n",
       "0        2.252247  0.998153     0  \n",
       "0        1.994144  0.998190     0  \n",
       "0        2.036737  0.998190     0  \n",
       "0        2.462112  0.998190     0  \n",
       "0        2.006412  0.998153     0  \n",
       "0        2.047477  0.998153     0  \n",
       "0        2.130785  0.998190     0  \n",
       "0        7.118552  0.997985     0  \n",
       "0        2.057580  0.998004     0  \n",
       "0        2.033044  0.998041     0  "
      ]
     },
     "execution_count": 26,
     "metadata": {},
     "output_type": "execute_result"
    }
   ],
   "source": [
    "temp = []\n",
    "for metric in ['angular', 'euclidean', 'manhattan', 'hamming']:\n",
    "    for n_trees in [5, 10, 20]:\n",
    "        temp.append(annoyNN(active=egfr_active_features_norm, rest=[all_features_cleaned_norm, egfr_inactive_features_norm], \n",
    "                            size=0.2, n_neighbors=100, metric=metric, n_trees=n_trees, seed=0))\n",
    "annoy_results = pd.concat(temp)\n",
    "annoy_results"
   ]
  },
  {
   "cell_type": "code",
   "execution_count": 63,
   "metadata": {},
   "outputs": [
    {
     "data": {
      "text/html": [
       "<div>\n",
       "<style scoped>\n",
       "    .dataframe tbody tr th:only-of-type {\n",
       "        vertical-align: middle;\n",
       "    }\n",
       "\n",
       "    .dataframe tbody tr th {\n",
       "        vertical-align: top;\n",
       "    }\n",
       "\n",
       "    .dataframe thead tr th {\n",
       "        text-align: left;\n",
       "    }\n",
       "\n",
       "    .dataframe thead tr:last-of-type th {\n",
       "        text-align: right;\n",
       "    }\n",
       "</style>\n",
       "<table border=\"1\" class=\"dataframe\">\n",
       "  <thead>\n",
       "    <tr>\n",
       "      <th></th>\n",
       "      <th colspan=\"8\" halign=\"left\">build time (s)</th>\n",
       "      <th colspan=\"8\" halign=\"left\">query time (s)</th>\n",
       "    </tr>\n",
       "    <tr>\n",
       "      <th></th>\n",
       "      <th>count</th>\n",
       "      <th>mean</th>\n",
       "      <th>std</th>\n",
       "      <th>min</th>\n",
       "      <th>25%</th>\n",
       "      <th>50%</th>\n",
       "      <th>75%</th>\n",
       "      <th>max</th>\n",
       "      <th>count</th>\n",
       "      <th>mean</th>\n",
       "      <th>std</th>\n",
       "      <th>min</th>\n",
       "      <th>25%</th>\n",
       "      <th>50%</th>\n",
       "      <th>75%</th>\n",
       "      <th>max</th>\n",
       "    </tr>\n",
       "    <tr>\n",
       "      <th>metric</th>\n",
       "      <th></th>\n",
       "      <th></th>\n",
       "      <th></th>\n",
       "      <th></th>\n",
       "      <th></th>\n",
       "      <th></th>\n",
       "      <th></th>\n",
       "      <th></th>\n",
       "      <th></th>\n",
       "      <th></th>\n",
       "      <th></th>\n",
       "      <th></th>\n",
       "      <th></th>\n",
       "      <th></th>\n",
       "      <th></th>\n",
       "      <th></th>\n",
       "    </tr>\n",
       "  </thead>\n",
       "  <tbody>\n",
       "    <tr>\n",
       "      <th>angular</th>\n",
       "      <td>3.0</td>\n",
       "      <td>729.009525</td>\n",
       "      <td>4.940419</td>\n",
       "      <td>723.482300</td>\n",
       "      <td>727.016352</td>\n",
       "      <td>730.550405</td>\n",
       "      <td>731.773138</td>\n",
       "      <td>732.995871</td>\n",
       "      <td>3.0</td>\n",
       "      <td>2.205150</td>\n",
       "      <td>0.129607</td>\n",
       "      <td>2.058579</td>\n",
       "      <td>2.155413</td>\n",
       "      <td>2.252247</td>\n",
       "      <td>2.278435</td>\n",
       "      <td>2.304622</td>\n",
       "    </tr>\n",
       "    <tr>\n",
       "      <th>euclidean</th>\n",
       "      <td>3.0</td>\n",
       "      <td>724.466031</td>\n",
       "      <td>0.756207</td>\n",
       "      <td>723.889000</td>\n",
       "      <td>724.037992</td>\n",
       "      <td>724.186985</td>\n",
       "      <td>724.754546</td>\n",
       "      <td>725.322108</td>\n",
       "      <td>3.0</td>\n",
       "      <td>2.164331</td>\n",
       "      <td>0.258764</td>\n",
       "      <td>1.994144</td>\n",
       "      <td>2.015441</td>\n",
       "      <td>2.036737</td>\n",
       "      <td>2.249425</td>\n",
       "      <td>2.462112</td>\n",
       "    </tr>\n",
       "    <tr>\n",
       "      <th>hamming</th>\n",
       "      <td>3.0</td>\n",
       "      <td>766.816377</td>\n",
       "      <td>26.942598</td>\n",
       "      <td>740.595513</td>\n",
       "      <td>753.011104</td>\n",
       "      <td>765.426694</td>\n",
       "      <td>779.926809</td>\n",
       "      <td>794.426924</td>\n",
       "      <td>3.0</td>\n",
       "      <td>3.736392</td>\n",
       "      <td>2.929062</td>\n",
       "      <td>2.033044</td>\n",
       "      <td>2.045312</td>\n",
       "      <td>2.057580</td>\n",
       "      <td>4.588066</td>\n",
       "      <td>7.118552</td>\n",
       "    </tr>\n",
       "    <tr>\n",
       "      <th>manhattan</th>\n",
       "      <td>3.0</td>\n",
       "      <td>724.951877</td>\n",
       "      <td>4.442400</td>\n",
       "      <td>721.212340</td>\n",
       "      <td>722.496564</td>\n",
       "      <td>723.780788</td>\n",
       "      <td>726.821646</td>\n",
       "      <td>729.862504</td>\n",
       "      <td>3.0</td>\n",
       "      <td>2.061558</td>\n",
       "      <td>0.063371</td>\n",
       "      <td>2.006412</td>\n",
       "      <td>2.026944</td>\n",
       "      <td>2.047477</td>\n",
       "      <td>2.089131</td>\n",
       "      <td>2.130785</td>\n",
       "    </tr>\n",
       "  </tbody>\n",
       "</table>\n",
       "</div>"
      ],
      "text/plain": [
       "          build time (s)                                                 \\\n",
       "                   count        mean        std         min         25%   \n",
       "metric                                                                    \n",
       "angular              3.0  729.009525   4.940419  723.482300  727.016352   \n",
       "euclidean            3.0  724.466031   0.756207  723.889000  724.037992   \n",
       "hamming              3.0  766.816377  26.942598  740.595513  753.011104   \n",
       "manhattan            3.0  724.951877   4.442400  721.212340  722.496564   \n",
       "\n",
       "                                              query time (s)            \\\n",
       "                  50%         75%         max          count      mean   \n",
       "metric                                                                   \n",
       "angular    730.550405  731.773138  732.995871            3.0  2.205150   \n",
       "euclidean  724.186985  724.754546  725.322108            3.0  2.164331   \n",
       "hamming    765.426694  779.926809  794.426924            3.0  3.736392   \n",
       "manhattan  723.780788  726.821646  729.862504            3.0  2.061558   \n",
       "\n",
       "                                                                       \n",
       "                std       min       25%       50%       75%       max  \n",
       "metric                                                                 \n",
       "angular    0.129607  2.058579  2.155413  2.252247  2.278435  2.304622  \n",
       "euclidean  0.258764  1.994144  2.015441  2.036737  2.249425  2.462112  \n",
       "hamming    2.929062  2.033044  2.045312  2.057580  4.588066  7.118552  \n",
       "manhattan  0.063371  2.006412  2.026944  2.047477  2.089131  2.130785  "
      ]
     },
     "execution_count": 63,
     "metadata": {},
     "output_type": "execute_result"
    }
   ],
   "source": [
    "annoy_results[['algorithm/index', 'metric', 'build time (s)', 'query time (s)']].groupby(\n",
    "    ['metric']).describe()"
   ]
  },
  {
   "cell_type": "markdown",
   "metadata": {},
   "source": [
    "# Graphs\n"
   ]
  },
  {
   "cell_type": "code",
   "execution_count": null,
   "metadata": {},
   "outputs": [],
   "source": [
    "import pandas as pd\n",
    "from matplotlib import pyplot as plt"
   ]
  },
  {
   "cell_type": "code",
   "execution_count": null,
   "metadata": {},
   "outputs": [],
   "source": [
    "annoy_results = pd.read_csv(\"annoy_results.txt\")"
   ]
  },
  {
   "cell_type": "code",
   "execution_count": null,
   "metadata": {},
   "outputs": [],
   "source": [
    "annoy_results = annoy_results[['algorithm/index', 'metric', 'n_neighbors', \n",
    "                                  'query size', 'build time (s)', 'query time (s)', 'quality', 'seed']]"
   ]
  },
  {
   "cell_type": "code",
   "execution_count": null,
   "metadata": {},
   "outputs": [],
   "source": [
    "a = annoy_results"
   ]
  },
  {
   "cell_type": "code",
   "execution_count": 39,
   "metadata": {},
   "outputs": [
    {
     "data": {
      "image/png": "[encoded data removed]",
      "text/plain": [
       "<Figure size 432x288 with 1 Axes>"
      ]
     },
     "metadata": {},
     "output_type": "display_data"
    }
   ],
   "source": [
    "plt.figure()\n",
    "for i in range(12):\n",
    "    if i != 9:\n",
    "        plt.scatter(a[i:i+1]['query time (s)'], a[i:i+1]['quality'], s=10)\n",
    "plt.ylim(0.9978, 0.9983)\n",
    "plt.xlabel('query time (s)')\n",
    "plt.ylabel('quality')\n",
    "plt.legend(['annoy/angular/5', 'annoy/angular/10', 'annoy/angular/20', \n",
    "            'annoy/euclidean/5', 'annoy/euclidean/10', 'annoy/euclidean/20', \n",
    "            'annoy/manhattan/5', 'annoy/manhattan/10', 'annoy/manhattan/20', \n",
    "            #'annoy/hamming/5', \n",
    "            'annoy/hamming/10', 'annoy/hamming/20'], bbox_to_anchor=(1, 1))\n",
    "plt.show()"
   ]
  },
  {
   "cell_type": "code",
   "execution_count": 41,
   "metadata": {
    "collapsed": true
   },
   "outputs": [
    {
     "data": {
      "image/png": "[encoded data removed]",
      "text/plain": [
       "<Figure size 432x288 with 1 Axes>"
      ]
     },
     "metadata": {},
     "output_type": "display_data"
    }
   ],
   "source": [
    "plt.figure()\n",
    "for i in range(4):\n",
    "        plt.scatter(a[i*3:i*3+3]['query time (s)'], a[i*3:i*3+3]['quality'], s=10)\n",
    "plt.ylim(0.9978, 0.9983)\n",
    "plt.xlabel('query time (s)')\n",
    "plt.ylabel('quality')\n",
    "plt.legend(['annoy/angular', \n",
    "            'annoy/euclidean', \n",
    "            'annoy/manhattan', \n",
    "            'annoy/hamming'], bbox_to_anchor=(1, 1))\n",
    "plt.show()"
   ]
  },
  {
   "cell_type": "code",
   "execution_count": 44,
   "metadata": {},
   "outputs": [
    {
     "data": {
      "image/png": "[encoded data removed]",
      "text/plain": [
       "<Figure size 432x288 with 1 Axes>"
      ]
     },
     "metadata": {},
     "output_type": "display_data"
    }
   ],
   "source": [
    "plt.figure()\n",
    "for i in range(12):\n",
    "    plt.scatter(a[i:i+1]['build time (s)'], a[i:i+1]['quality'], s=10)\n",
    "plt.ylim(0.9978, 0.9983)\n",
    "plt.xlabel('build time (s)')\n",
    "plt.ylabel('quality')\n",
    "plt.legend(['annoy/angular/5', 'annoy/angular/10', 'annoy/angular/15', \n",
    "            'annoy/euclidean/5', 'annoy/euclidean/10', 'annoy/euclidean/15', \n",
    "            'annoy/manhattan/5', 'annoy/manhattan/10', 'annoy/manhattan/15', \n",
    "            'annoy/hamming/5', 'annoy/hamming/10', 'annoy/hamming/15'], bbox_to_anchor=(1, 1))\n",
    "plt.show()"
   ]
  },
  {
   "cell_type": "code",
   "execution_count": 46,
   "metadata": {},
   "outputs": [
    {
     "data": {
      "image/png": "[encoded data removed]",
      "text/plain": [
       "<Figure size 432x288 with 1 Axes>"
      ]
     },
     "metadata": {},
     "output_type": "display_data"
    }
   ],
   "source": [
    "plt.figure()\n",
    "for i in range(4):\n",
    "        plt.scatter(a[i*3:i*3+3]['build time (s)'], a[i*3:i*3+3]['quality'], s=10)\n",
    "plt.ylim(0.9978, 0.9983)\n",
    "plt.xlabel('build time (s)')\n",
    "plt.ylabel('quality')\n",
    "plt.legend(['annoy/angular', \n",
    "            'annoy/euclidean', \n",
    "            'annoy/manhattan', \n",
    "            'annoy/hamming'], bbox_to_anchor=(1, 1))\n",
    "plt.show()"
   ]
  },
  {
   "cell_type": "code",
   "execution_count": 50,
   "metadata": {
    "collapsed": true
   },
   "outputs": [
    {
     "data": {
      "image/png": "[encoded data removed]",
      "text/plain": [
       "<Figure size 432x288 with 1 Axes>"
      ]
     },
     "metadata": {},
     "output_type": "display_data"
    }
   ],
   "source": [
    "#graph of build time vs query time for each of the algorithm/metric combinations\n",
    "#lower left is better\n",
    "plt.figure()\n",
    "for i in range(4):\n",
    "        plt.scatter(a[i*3:i*3+3]['build time (s)'], a[i*3:i*3+3]['query time (s)'], s=10)\n",
    "\n",
    "plt.xlabel('build time (s)')\n",
    "plt.ylabel('query time (s)')\n",
    "plt.legend(['annoy/angular', \n",
    "            'annoy/euclidean', \n",
    "            'annoy/manhattan', \n",
    "            'annoy/hamming'])\n",
    "\n",
    "plt.show()"
   ]
  }
 ],
 "metadata": {
  "kernelspec": {
   "display_name": "Python 3",
   "language": "python",
   "name": "python3"
  },
  "language_info": {
   "codemirror_mode": {
    "name": "ipython",
    "version": 3
   },
   "file_extension": ".py",
   "mimetype": "text/x-python",
   "name": "python",
   "nbconvert_exporter": "python",
   "pygments_lexer": "ipython3",
   "version": "3.6.5"
  }
 },
 "nbformat": 4,
 "nbformat_minor": 2
}
