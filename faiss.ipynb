{
 "cells": [
  {
   "cell_type": "code",
   "execution_count": 1,
   "metadata": {},
   "outputs": [],
   "source": [
    "import numpy as np\n",
    "import pandas as pd\n",
    "import time\n",
    "from collections import OrderedDict\n",
    "from sklearn import preprocessing\n",
    "from matplotlib import pyplot as plt\n",
    "import faiss"
   ]
  },
  {
   "cell_type": "markdown",
   "metadata": {},
   "source": [
    "# Data Preparation"
   ]
  },
  {
   "cell_type": "code",
   "execution_count": null,
   "metadata": {},
   "outputs": [],
   "source": [
    "%%time\n",
    "#200000 compounds with 469 features\n",
    "all_features = pd.read_csv(\"c2vpoint2m.txt.gz\", sep=\"\\t\", header=None)"
   ]
  },
  {
   "cell_type": "code",
   "execution_count": null,
   "metadata": {},
   "outputs": [],
   "source": [
    "#make the compound names the index\n",
    "all_features.set_index(0, inplace=True)"
   ]
  },
  {
   "cell_type": "code",
   "execution_count": null,
   "metadata": {},
   "outputs": [],
   "source": [
    "%%time\n",
    "#725634 compounds with target and activity\n",
    "cgan = pd.read_csv(\"activities.txt.gz\", sep=\"\\t\")"
   ]
  },
  {
   "cell_type": "code",
   "execution_count": null,
   "metadata": {},
   "outputs": [],
   "source": [
    "#we are only interested in the compounds whose target is EGFR\n",
    "egfr_activity = cgan[cgan['target'] == 'EGFR'].set_index('compound')"
   ]
  },
  {
   "cell_type": "code",
   "execution_count": null,
   "metadata": {},
   "outputs": [],
   "source": [
    "#separate into two dataframes, one with active compounds\n",
    "egfr_active = egfr_activity[egfr_activity['activity'] >= 6]\n",
    "egfr_active_compounds = egfr_active.index.values"
   ]
  },
  {
   "cell_type": "code",
   "execution_count": null,
   "metadata": {},
   "outputs": [],
   "source": [
    "#and one with inactive ones\n",
    "egfr_inactive = egfr_activity[egfr_activity['activity']  < 6]\n",
    "egfr_inactive_compounds = egfr_inactive.index.values"
   ]
  },
  {
   "cell_type": "code",
   "execution_count": null,
   "metadata": {},
   "outputs": [],
   "source": [
    "#5275 compounds with EGFR target and 469 features\n",
    "egfr_features = pd.read_csv(\"egfr.c2v.txt\", sep=\"\\t\", header=None).set_index(0)"
   ]
  },
  {
   "cell_type": "code",
   "execution_count": null,
   "metadata": {},
   "outputs": [],
   "source": [
    "#isolate the names for easier access\n",
    "egfr_compounds = egfr_features.index.values"
   ]
  },
  {
   "cell_type": "code",
   "execution_count": null,
   "metadata": {},
   "outputs": [],
   "source": [
    "#make dataframes with features for the active and inactive compounds\n",
    "egfr_active_features = egfr_features.loc[egfr_active_compounds]\n",
    "egfr_inactive_features = egfr_features.loc[egfr_inactive_compounds]"
   ]
  },
  {
   "cell_type": "code",
   "execution_count": null,
   "metadata": {},
   "outputs": [],
   "source": [
    "#scale the data so that each feature is normalized and can be compared to other features\n",
    "min_max_scaler = preprocessing.MinMaxScaler() #fits data between 0 and 1"
   ]
  },
  {
   "cell_type": "code",
   "execution_count": null,
   "metadata": {},
   "outputs": [],
   "source": [
    "#normalize the active compounds\n",
    "egfr_active_features_norm = pd.DataFrame(min_max_scaler.fit_transform(egfr_active_features), \n",
    "                                         index=egfr_active_features.index)"
   ]
  },
  {
   "cell_type": "code",
   "execution_count": null,
   "metadata": {},
   "outputs": [],
   "source": [
    "#normalize the inactive compounds\n",
    "egfr_inactive_features_norm = pd.DataFrame(min_max_scaler.fit_transform(egfr_inactive_features), \n",
    "                                           index=egfr_inactive_features.index)"
   ]
  },
  {
   "cell_type": "code",
   "execution_count": null,
   "metadata": {},
   "outputs": [],
   "source": [
    "#remove duplicates from all_features - can also use DataFrame.drop_duplicates()\n",
    "all_features_cleaned = all_features.loc[list(set(all_features.index.values) - set(egfr_compounds))]"
   ]
  },
  {
   "cell_type": "code",
   "execution_count": null,
   "metadata": {},
   "outputs": [],
   "source": [
    "#normalize the database\n",
    "all_features_cleaned_norm = pd.DataFrame(min_max_scaler.fit_transform(all_features_cleaned), index=all_features_cleaned.index)"
   ]
  },
  {
   "cell_type": "markdown",
   "metadata": {},
   "source": [
    "# Logic Creation"
   ]
  },
  {
   "cell_type": "code",
   "execution_count": null,
   "metadata": {},
   "outputs": [],
   "source": [
    "def dataprep(active, rest, size, seed):\n",
    "    #create the query from a random sample of the data\n",
    "    size = int(active.shape[0] * size + .5)\n",
    "    query = active.sample(n=size, random_state=seed)\n",
    "    \n",
    "    #remove the query, then concatenate the remaining data for training\n",
    "    sub = list(set(active.index.values) - set(query.index.values))\n",
    "    active_minus_query = active.loc[sub]\n",
    "    database = pd.concat([active_minus_query] + rest)\n",
    "    \n",
    "    return database, query"
   ]
  },
  {
   "cell_type": "code",
   "execution_count": null,
   "metadata": {},
   "outputs": [],
   "source": [
    "def buildFaissModel(database, n_neighbors, algorithm, metric):\n",
    "    #some faiss indexes require additional arguments\n",
    "    if args:\n",
    "        index = getattr(faiss, 'Index' + index_type)(database.shape[1], *args)\n",
    "    else:\n",
    "        index = getattr(faiss, 'Index' + index_type)(database.shape[1])\n",
    "        \n",
    "    #IndexPQ doesn't automatically train    \n",
    "    if index_type == 'PQ':\n",
    "        index.train(np.ascontiguousarray(database.values, 'float32'))\n",
    " \n",
    "    #faiss indexes require the data to be a contiguous numpy array of type float32\n",
    "\n",
    "\n",
    "    #train the model\n",
    "    start = time.time()\n",
    "    index.add(np.ascontiguousarray(database.values, 'float32'))\n",
    "    end = time.time()\n",
    "    \n",
    "    build_time = end - start\n",
    "    \n",
    "    return index, build_time"
   ]
  },
  {
   "cell_type": "code",
   "execution_count": null,
   "metadata": {},
   "outputs": [],
   "source": [
    "def runFaissQuery(model, query, n_neighbors, database, active):\n",
    "    #k is the number of neighbors to find\n",
    "    #run the query\n",
    "    start = time.time()\n",
    "    distances, indices = model.search(np.ascontiguousarray(query.values, 'float32'), n_neighbors)\n",
    "    end = time.time()\n",
    "    \n",
    "    query_time = end - start\n",
    "    \n",
    "    #assess the quality of the results - how many of the neighbors are in the success dataframe\n",
    "    sum = 0\n",
    "    for i in indices:\n",
    "        count = 0\n",
    "        for j in i:\n",
    "            if database.index.values[j] in active.index.values:\n",
    "                count += 1\n",
    "        sum += count / float(k)\n",
    "    average = sum / query.shape[0]\n",
    "    \n",
    "    return average, query_time"
   ]
  },
  {
   "cell_type": "code",
   "execution_count": null,
   "metadata": {},
   "outputs": [],
   "source": [
    "#active: the dataframe containing the compounds that you want to receive back: in this case, egfr_active\n",
    "#rest: a list of other dataframes that will complete the database\n",
    "#size: proportion of active that is sampled for the query\n",
    "#n_neighbors: the number of neighbors found for each compound in the query\n",
    "#index_type: the index used for the model\n",
    "#seed: the random seed used for sampling\n",
    "#args: additional arguments used for some of the indexes\n",
    "def faissNN(active, rest, size, n_neighbors, index_type, seed, args=[]):\n",
    "    #prepare the data\n",
    "    database, query = dataprep(active, rest, size, seed)\n",
    "    \n",
    "    #build the model\n",
    "    model, build_time = buildFaissModel(database, n_neighbors, index_type, args)\n",
    "    \n",
    "    #run the query\n",
    "    average, query_time = runFaissQuery(model, query, n_neighbors, database, active)\n",
    "    \n",
    "    #return the results in a table\n",
    "    d = OrderedDict({'algorithm/index':[index_type], 'metric':[None], 'n_neighbors':[n_neighbors], \n",
    "                     'query size':[size], 'build time (s)':[build_time], 'query time (s)':[query_time], \n",
    "                     'quality':[average], 'seed':[seed]})\n",
    "    \n",
    "    return pd.DataFrame(data=d)"
   ]
  },
  {
   "cell_type": "markdown",
   "metadata": {},
   "source": [
    "# Tests"
   ]
  },
  {
   "cell_type": "code",
   "execution_count": 2,
   "metadata": {},
   "outputs": [],
   "source": [
    "faiss_results = pd.DataFrame()"
   ]
  },
  {
   "cell_type": "code",
   "execution_count": null,
   "metadata": {},
   "outputs": [],
   "source": [
    "#faiss brute-force\n",
    "#flatl2 is euclidean, flatip is cosine\n",
    "temp = []\n",
    "for index in ['FlatL2', 'FlatIP']:\n",
    "    for seed in range(5):\n",
    "        temp.append(faissNN(active=egfr_active_features_norm, rest=[stuff_cleaned_norm, egfr_inactive_features_norm],\n",
    "                           size=0.2, n_neighbors=100, index_type=index, seed=seed))\n",
    "faiss_results = pd.concat([faiss_results] + temp)"
   ]
  },
  {
   "cell_type": "code",
   "execution_count": null,
   "metadata": {},
   "outputs": [],
   "source": [
    "#faiss HNSW (Hierarchical Navigable Small World)\n",
    "#extra argument is number of subquantizers (I think - the documentation is a little sparse)\n",
    "temp = []\n",
    "for seed in range(5):\n",
    "    temp.append(faissNN(egfr_active_features_norm, [stuff_cleaned_norm, egfr_inactive_features_norm],\n",
    "                       0.2, 100, 'HNSWFlat', seed, args=[64]))\n",
    "faiss_results = pd.concat([faiss_results] + temp)"
   ]
  },
  {
   "cell_type": "code",
   "execution_count": null,
   "metadata": {},
   "outputs": [],
   "source": [
    "#faiss LSH (Locality-Sensitive Hashing)\n",
    "#extra argument is n_bits used for each vector\n",
    "temp = []\n",
    "for seed in range(5):\n",
    "    temp.append(faissNN(egfr_active_features_norm, [stuff_cleaned_norm, egfr_inactive_features_norm],\n",
    "                       0.2, 100, 'LSH', seed, [256]))\n",
    "faiss_results = pd.concat([faiss_results] + temp)"
   ]
  },
  {
   "cell_type": "code",
   "execution_count": null,
   "metadata": {},
   "outputs": [],
   "source": [
    "#faiss PQ (product quantizer)\n",
    "#extra arguments are number of subquantizers and n_bits\n",
    "temp = []\n",
    "for seed in range(5):\n",
    "    temp.append(faissNN(egfr_active_features_norm, [stuff_cleaned_norm, egfr_inactive_features_norm],\n",
    "                       0.2, 100, 'PQ', seed, [1, 8]))\n",
    "faiss_results = pd.concat([faiss_results] + temp)"
   ]
  },
  {
   "cell_type": "code",
   "execution_count": 24,
   "metadata": {
    "collapsed": true
   },
   "outputs": [
    {
     "data": {
      "text/html": [
       "<div>\n",
       "<style scoped>\n",
       "    .dataframe tbody tr th:only-of-type {\n",
       "        vertical-align: middle;\n",
       "    }\n",
       "\n",
       "    .dataframe tbody tr th {\n",
       "        vertical-align: top;\n",
       "    }\n",
       "\n",
       "    .dataframe thead th {\n",
       "        text-align: right;\n",
       "    }\n",
       "</style>\n",
       "<table border=\"1\" class=\"dataframe\">\n",
       "  <thead>\n",
       "    <tr style=\"text-align: right;\">\n",
       "      <th></th>\n",
       "      <th>algorithm/index</th>\n",
       "      <th>metric</th>\n",
       "      <th>n_neighbors</th>\n",
       "      <th>query size</th>\n",
       "      <th>build time (s)</th>\n",
       "      <th>query time (s)</th>\n",
       "      <th>quality</th>\n",
       "      <th>seed</th>\n",
       "    </tr>\n",
       "  </thead>\n",
       "  <tbody>\n",
       "    <tr>\n",
       "      <th>0</th>\n",
       "      <td>FlatL2</td>\n",
       "      <td>NaN</td>\n",
       "      <td>100</td>\n",
       "      <td>0.2</td>\n",
       "      <td>1.074075</td>\n",
       "      <td>0.973394</td>\n",
       "      <td>0.998022</td>\n",
       "      <td>0</td>\n",
       "    </tr>\n",
       "    <tr>\n",
       "      <th>1</th>\n",
       "      <td>FlatL2</td>\n",
       "      <td>NaN</td>\n",
       "      <td>100</td>\n",
       "      <td>0.2</td>\n",
       "      <td>0.950572</td>\n",
       "      <td>0.689927</td>\n",
       "      <td>0.996231</td>\n",
       "      <td>1</td>\n",
       "    </tr>\n",
       "    <tr>\n",
       "      <th>2</th>\n",
       "      <td>FlatL2</td>\n",
       "      <td>NaN</td>\n",
       "      <td>100</td>\n",
       "      <td>0.2</td>\n",
       "      <td>0.953306</td>\n",
       "      <td>0.707237</td>\n",
       "      <td>0.997836</td>\n",
       "      <td>2</td>\n",
       "    </tr>\n",
       "    <tr>\n",
       "      <th>3</th>\n",
       "      <td>FlatL2</td>\n",
       "      <td>NaN</td>\n",
       "      <td>100</td>\n",
       "      <td>0.2</td>\n",
       "      <td>0.947964</td>\n",
       "      <td>0.745277</td>\n",
       "      <td>0.998507</td>\n",
       "      <td>3</td>\n",
       "    </tr>\n",
       "    <tr>\n",
       "      <th>4</th>\n",
       "      <td>FlatL2</td>\n",
       "      <td>NaN</td>\n",
       "      <td>100</td>\n",
       "      <td>0.2</td>\n",
       "      <td>0.976736</td>\n",
       "      <td>0.732952</td>\n",
       "      <td>0.998433</td>\n",
       "      <td>4</td>\n",
       "    </tr>\n",
       "    <tr>\n",
       "      <th>5</th>\n",
       "      <td>FlatIP</td>\n",
       "      <td>NaN</td>\n",
       "      <td>100</td>\n",
       "      <td>0.2</td>\n",
       "      <td>0.961938</td>\n",
       "      <td>0.644529</td>\n",
       "      <td>0.997519</td>\n",
       "      <td>0</td>\n",
       "    </tr>\n",
       "    <tr>\n",
       "      <th>6</th>\n",
       "      <td>FlatIP</td>\n",
       "      <td>NaN</td>\n",
       "      <td>100</td>\n",
       "      <td>0.2</td>\n",
       "      <td>0.928212</td>\n",
       "      <td>0.686473</td>\n",
       "      <td>0.996045</td>\n",
       "      <td>1</td>\n",
       "    </tr>\n",
       "    <tr>\n",
       "      <th>7</th>\n",
       "      <td>FlatIP</td>\n",
       "      <td>NaN</td>\n",
       "      <td>100</td>\n",
       "      <td>0.2</td>\n",
       "      <td>0.917398</td>\n",
       "      <td>0.649637</td>\n",
       "      <td>0.997369</td>\n",
       "      <td>2</td>\n",
       "    </tr>\n",
       "    <tr>\n",
       "      <th>8</th>\n",
       "      <td>FlatIP</td>\n",
       "      <td>NaN</td>\n",
       "      <td>100</td>\n",
       "      <td>0.2</td>\n",
       "      <td>0.926311</td>\n",
       "      <td>0.601673</td>\n",
       "      <td>0.999608</td>\n",
       "      <td>3</td>\n",
       "    </tr>\n",
       "    <tr>\n",
       "      <th>9</th>\n",
       "      <td>FlatIP</td>\n",
       "      <td>NaN</td>\n",
       "      <td>100</td>\n",
       "      <td>0.2</td>\n",
       "      <td>0.921139</td>\n",
       "      <td>0.641527</td>\n",
       "      <td>0.999384</td>\n",
       "      <td>4</td>\n",
       "    </tr>\n",
       "    <tr>\n",
       "      <th>10</th>\n",
       "      <td>HNSWFlat</td>\n",
       "      <td>NaN</td>\n",
       "      <td>100</td>\n",
       "      <td>0.2</td>\n",
       "      <td>46.096778</td>\n",
       "      <td>0.249331</td>\n",
       "      <td>0.998153</td>\n",
       "      <td>0</td>\n",
       "    </tr>\n",
       "    <tr>\n",
       "      <th>11</th>\n",
       "      <td>HNSWFlat</td>\n",
       "      <td>NaN</td>\n",
       "      <td>100</td>\n",
       "      <td>0.2</td>\n",
       "      <td>44.462582</td>\n",
       "      <td>0.009120</td>\n",
       "      <td>0.996362</td>\n",
       "      <td>1</td>\n",
       "    </tr>\n",
       "    <tr>\n",
       "      <th>12</th>\n",
       "      <td>HNSWFlat</td>\n",
       "      <td>NaN</td>\n",
       "      <td>100</td>\n",
       "      <td>0.2</td>\n",
       "      <td>44.338444</td>\n",
       "      <td>0.013443</td>\n",
       "      <td>0.997724</td>\n",
       "      <td>2</td>\n",
       "    </tr>\n",
       "    <tr>\n",
       "      <th>13</th>\n",
       "      <td>HNSWFlat</td>\n",
       "      <td>NaN</td>\n",
       "      <td>100</td>\n",
       "      <td>0.2</td>\n",
       "      <td>44.271413</td>\n",
       "      <td>0.014812</td>\n",
       "      <td>1.000000</td>\n",
       "      <td>3</td>\n",
       "    </tr>\n",
       "    <tr>\n",
       "      <th>14</th>\n",
       "      <td>HNSWFlat</td>\n",
       "      <td>NaN</td>\n",
       "      <td>100</td>\n",
       "      <td>0.2</td>\n",
       "      <td>44.198560</td>\n",
       "      <td>0.009601</td>\n",
       "      <td>0.998153</td>\n",
       "      <td>4</td>\n",
       "    </tr>\n",
       "    <tr>\n",
       "      <th>15</th>\n",
       "      <td>PQ</td>\n",
       "      <td>NaN</td>\n",
       "      <td>100</td>\n",
       "      <td>0.2</td>\n",
       "      <td>1.207191</td>\n",
       "      <td>0.061309</td>\n",
       "      <td>0.998172</td>\n",
       "      <td>0</td>\n",
       "    </tr>\n",
       "    <tr>\n",
       "      <th>16</th>\n",
       "      <td>PQ</td>\n",
       "      <td>NaN</td>\n",
       "      <td>100</td>\n",
       "      <td>0.2</td>\n",
       "      <td>1.215398</td>\n",
       "      <td>0.053029</td>\n",
       "      <td>0.996287</td>\n",
       "      <td>1</td>\n",
       "    </tr>\n",
       "    <tr>\n",
       "      <th>17</th>\n",
       "      <td>PQ</td>\n",
       "      <td>NaN</td>\n",
       "      <td>100</td>\n",
       "      <td>0.2</td>\n",
       "      <td>1.223467</td>\n",
       "      <td>0.061619</td>\n",
       "      <td>0.998153</td>\n",
       "      <td>2</td>\n",
       "    </tr>\n",
       "    <tr>\n",
       "      <th>18</th>\n",
       "      <td>PQ</td>\n",
       "      <td>NaN</td>\n",
       "      <td>100</td>\n",
       "      <td>0.2</td>\n",
       "      <td>1.256339</td>\n",
       "      <td>0.060967</td>\n",
       "      <td>0.998153</td>\n",
       "      <td>3</td>\n",
       "    </tr>\n",
       "    <tr>\n",
       "      <th>19</th>\n",
       "      <td>PQ</td>\n",
       "      <td>NaN</td>\n",
       "      <td>100</td>\n",
       "      <td>0.2</td>\n",
       "      <td>1.245196</td>\n",
       "      <td>0.059670</td>\n",
       "      <td>0.998153</td>\n",
       "      <td>4</td>\n",
       "    </tr>\n",
       "    <tr>\n",
       "      <th>20</th>\n",
       "      <td>LSH</td>\n",
       "      <td>NaN</td>\n",
       "      <td>100</td>\n",
       "      <td>0.2</td>\n",
       "      <td>1.219164</td>\n",
       "      <td>0.189162</td>\n",
       "      <td>0.998153</td>\n",
       "      <td>0</td>\n",
       "    </tr>\n",
       "    <tr>\n",
       "      <th>21</th>\n",
       "      <td>LSH</td>\n",
       "      <td>NaN</td>\n",
       "      <td>100</td>\n",
       "      <td>0.2</td>\n",
       "      <td>1.144452</td>\n",
       "      <td>0.095640</td>\n",
       "      <td>0.996213</td>\n",
       "      <td>1</td>\n",
       "    </tr>\n",
       "    <tr>\n",
       "      <th>22</th>\n",
       "      <td>LSH</td>\n",
       "      <td>NaN</td>\n",
       "      <td>100</td>\n",
       "      <td>0.2</td>\n",
       "      <td>1.108829</td>\n",
       "      <td>0.065375</td>\n",
       "      <td>0.997966</td>\n",
       "      <td>2</td>\n",
       "    </tr>\n",
       "    <tr>\n",
       "      <th>23</th>\n",
       "      <td>LSH</td>\n",
       "      <td>NaN</td>\n",
       "      <td>100</td>\n",
       "      <td>0.2</td>\n",
       "      <td>1.169763</td>\n",
       "      <td>0.295062</td>\n",
       "      <td>0.998750</td>\n",
       "      <td>3</td>\n",
       "    </tr>\n",
       "    <tr>\n",
       "      <th>24</th>\n",
       "      <td>LSH</td>\n",
       "      <td>NaN</td>\n",
       "      <td>100</td>\n",
       "      <td>0.2</td>\n",
       "      <td>1.072145</td>\n",
       "      <td>0.078794</td>\n",
       "      <td>0.998675</td>\n",
       "      <td>4</td>\n",
       "    </tr>\n",
       "  </tbody>\n",
       "</table>\n",
       "</div>"
      ],
      "text/plain": [
       "   algorithm/index  metric  n_neighbors  query size  build time (s)  \\\n",
       "0           FlatL2     NaN          100         0.2        1.074075   \n",
       "1           FlatL2     NaN          100         0.2        0.950572   \n",
       "2           FlatL2     NaN          100         0.2        0.953306   \n",
       "3           FlatL2     NaN          100         0.2        0.947964   \n",
       "4           FlatL2     NaN          100         0.2        0.976736   \n",
       "5           FlatIP     NaN          100         0.2        0.961938   \n",
       "6           FlatIP     NaN          100         0.2        0.928212   \n",
       "7           FlatIP     NaN          100         0.2        0.917398   \n",
       "8           FlatIP     NaN          100         0.2        0.926311   \n",
       "9           FlatIP     NaN          100         0.2        0.921139   \n",
       "10        HNSWFlat     NaN          100         0.2       46.096778   \n",
       "11        HNSWFlat     NaN          100         0.2       44.462582   \n",
       "12        HNSWFlat     NaN          100         0.2       44.338444   \n",
       "13        HNSWFlat     NaN          100         0.2       44.271413   \n",
       "14        HNSWFlat     NaN          100         0.2       44.198560   \n",
       "15              PQ     NaN          100         0.2        1.207191   \n",
       "16              PQ     NaN          100         0.2        1.215398   \n",
       "17              PQ     NaN          100         0.2        1.223467   \n",
       "18              PQ     NaN          100         0.2        1.256339   \n",
       "19              PQ     NaN          100         0.2        1.245196   \n",
       "20             LSH     NaN          100         0.2        1.219164   \n",
       "21             LSH     NaN          100         0.2        1.144452   \n",
       "22             LSH     NaN          100         0.2        1.108829   \n",
       "23             LSH     NaN          100         0.2        1.169763   \n",
       "24             LSH     NaN          100         0.2        1.072145   \n",
       "\n",
       "    query time (s)   quality  seed  \n",
       "0         0.973394  0.998022     0  \n",
       "1         0.689927  0.996231     1  \n",
       "2         0.707237  0.997836     2  \n",
       "3         0.745277  0.998507     3  \n",
       "4         0.732952  0.998433     4  \n",
       "5         0.644529  0.997519     0  \n",
       "6         0.686473  0.996045     1  \n",
       "7         0.649637  0.997369     2  \n",
       "8         0.601673  0.999608     3  \n",
       "9         0.641527  0.999384     4  \n",
       "10        0.249331  0.998153     0  \n",
       "11        0.009120  0.996362     1  \n",
       "12        0.013443  0.997724     2  \n",
       "13        0.014812  1.000000     3  \n",
       "14        0.009601  0.998153     4  \n",
       "15        0.061309  0.998172     0  \n",
       "16        0.053029  0.996287     1  \n",
       "17        0.061619  0.998153     2  \n",
       "18        0.060967  0.998153     3  \n",
       "19        0.059670  0.998153     4  \n",
       "20        0.189162  0.998153     0  \n",
       "21        0.095640  0.996213     1  \n",
       "22        0.065375  0.997966     2  \n",
       "23        0.295062  0.998750     3  \n",
       "24        0.078794  0.998675     4  "
      ]
     },
     "execution_count": 24,
     "metadata": {},
     "output_type": "execute_result"
    }
   ],
   "source": [
    "faiss_results"
   ]
  },
  {
   "cell_type": "code",
   "execution_count": 26,
   "metadata": {},
   "outputs": [],
   "source": [
    "faiss_results[['algorithm/index', 'build time (s)', 'query time (s)']].groupby(\n",
    "    ['algorithm/index']).describe()"
   ]
  },
  {
   "cell_type": "markdown",
   "metadata": {},
   "source": [
    "# Graphs"
   ]
  },
  {
   "cell_type": "code",
   "execution_count": 2,
   "metadata": {},
   "outputs": [],
   "source": [
    "import pandas as pd\n",
    "from matplotlib import pyplot as plt"
   ]
  },
  {
   "cell_type": "code",
   "execution_count": 10,
   "metadata": {},
   "outputs": [],
   "source": [
    "faiss_results = pd.read_csv(\"faiss_results.txt\")"
   ]
  },
  {
   "cell_type": "code",
   "execution_count": 12,
   "metadata": {},
   "outputs": [],
   "source": [
    "faiss_results = faiss_results[['algorithm/index', 'metric', 'n_neighbors', \n",
    "                                  'query size', 'build time (s)', 'query time (s)', 'quality', 'seed']]"
   ]
  },
  {
   "cell_type": "code",
   "execution_count": 13,
   "metadata": {},
   "outputs": [],
   "source": [
    "a = faiss_results"
   ]
  },
  {
   "cell_type": "code",
   "execution_count": 14,
   "metadata": {},
   "outputs": [
    {
     "data": {
      "image/png": "[encoded data removed]",
      "text/plain": [
       "<Figure size 432x288 with 1 Axes>"
      ]
     },
     "metadata": {},
     "output_type": "display_data"
    }
   ],
   "source": [
    "#graph of query time vs quality for each index\n",
    "plt.figure()\n",
    "for i in range(0, 25, 5):\n",
    "    plt.scatter(a[i:i+5]['query time (s)'], a[i:i+5]['quality'], s=10)\n",
    "plt.ylim(0.9959, 1.0001)\n",
    "plt.xlabel('query time (s)')\n",
    "plt.ylabel('quality')\n",
    "plt.legend(['faiss/FlatL2', 'faiss/FlatIP', 'faiss/HNSWFlat', 'faiss/PQ', 'faiss/LSH'], bbox_to_anchor=(1.4, 1))\n",
    "plt.show()"
   ]
  },
  {
   "cell_type": "code",
   "execution_count": 42,
   "metadata": {
    "collapsed": true
   },
   "outputs": [
    {
     "data": {
      "image/png": "[encoded data removed]",
      "text/plain": [
       "<Figure size 432x288 with 1 Axes>"
      ]
     },
     "metadata": {},
     "output_type": "display_data"
    },
    {
     "data": {
      "image/png": "[encoded data removed]",
      "text/plain": [
       "<Figure size 432x288 with 2 Axes>"
      ]
     },
     "metadata": {},
     "output_type": "display_data"
    }
   ],
   "source": [
    "#graph of build time vs quality for each index\n",
    "plt.figure()\n",
    "for i in range(0, 25, 5):  \n",
    "    plt.scatter(a[i:i+5]['build time (s)'], a[i:i+5]['quality'], s=10)\n",
    "\n",
    "plt.ylim(0.9959, 1.0001)\n",
    "plt.xlabel('build time (s)')\n",
    "plt.ylabel('quality')\n",
    "plt.legend(['faiss/FlatL2', 'faiss/FlatIP', 'faiss/HNSWFlat', 'faiss/LSH', 'faiss/PQ'])\n",
    "\n",
    "#broken x-axis\n",
    "f, (ax, ax2) = plt.subplots(1, 2, sharey=True, facecolor='w')\n",
    "for i in range(0, 10, 5):\n",
    "    ax.scatter(a[i:i+5]['build time (s)'], a[i:i+5]['quality'], s=10)\n",
    "    ax.scatter(a[i+15:i+20]['build time (s)'], a[i+15:i+20]['quality'], s=10)\n",
    "\n",
    "ax2.scatter(a[10:15]['build time (s)'], a[10:15]['quality'], s=10)\n",
    "\n",
    "plt.ylim(0.9959, 1.0001)\n",
    "    \n",
    "ax.set_xlabel('build time (s)')\n",
    "ax.set_ylabel('quality')\n",
    "\n",
    "ax.legend(['faiss/FlatL2', 'faiss/FlatIP', 'faiss/LSH', 'faiss/PQ'], bbox_to_anchor=(0.7, 1.35))\n",
    "ax2.legend(['faiss/HNSW'], bbox_to_anchor=(0.7, 1.15))\n",
    "\n",
    "plt.show()"
   ]
  },
  {
   "cell_type": "code",
   "execution_count": 22,
   "metadata": {},
   "outputs": [
    {
     "data": {
      "image/png": "[encoded data removed]",
      "text/plain": [
       "<Figure size 432x288 with 1 Axes>"
      ]
     },
     "metadata": {},
     "output_type": "display_data"
    },
    {
     "data": {
      "image/png": "[encoded data removed]",
      "text/plain": [
       "<Figure size 432x288 with 2 Axes>"
      ]
     },
     "metadata": {},
     "output_type": "display_data"
    }
   ],
   "source": [
    "#graph of build time vs query time for each of the algorithm/metric combinations\n",
    "#lower left is better\n",
    "plt.figure()\n",
    "for i in range(0, 25, 5):  \n",
    "    plt.scatter(a[i:i+5]['build time (s)'], a[i:i+5]['query time (s)'], s=10)\n",
    "\n",
    "plt.xlabel('build time (s)')\n",
    "plt.ylabel('query time (s)')\n",
    "plt.legend(['faiss/FlatL2', 'faiss/FlatIP', 'faiss/HNSWFlat', 'faiss/LSH', 'faiss/PQ'])\n",
    "\n",
    "#broken x-axis\n",
    "f, (ax, ax2) = plt.subplots(1, 2, sharey=True, facecolor='w')\n",
    "for i in range(0, 10, 5):\n",
    "    ax.scatter(a[i:i+5]['build time (s)'], a[i:i+5]['query time (s)'], s=10)\n",
    "    ax.scatter(a[i+15:i+20]['build time (s)'], a[i+15:i+20]['query time (s)'], s=10)\n",
    "\n",
    "ax2.scatter(a[10:15]['build time (s)'], a[10:15]['query time (s)'], s=10)\n",
    "    \n",
    "ax.set_xlabel('build time (s)')\n",
    "ax.set_ylabel('query time (s)')\n",
    "\n",
    "ax.legend(['faiss/FlatL2', 'faiss/FlatIP', 'faiss/LSH', 'faiss/PQ'], bbox_to_anchor=(0.7, 1.35))\n",
    "ax2.legend(['faiss/HNSW'], bbox_to_anchor=(0.7, 1.15))\n",
    "\n",
    "plt.show()"
   ]
  }
 ],
 "metadata": {
  "kernelspec": {
   "display_name": "Python 3",
   "language": "python",
   "name": "python3"
  },
  "language_info": {
   "codemirror_mode": {
    "name": "ipython",
    "version": 3
   },
   "file_extension": ".py",
   "mimetype": "text/x-python",
   "name": "python",
   "nbconvert_exporter": "python",
   "pygments_lexer": "ipython3",
   "version": "3.6.5"
  }
 },
 "nbformat": 4,
 "nbformat_minor": 2
}
