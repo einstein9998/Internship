{
 "cells": [
  {
   "cell_type": "code",
   "execution_count": 1,
   "metadata": {},
   "outputs": [],
   "source": [
    "import numpy as np\n",
    "import pandas as pd\n",
    "import time\n",
    "from collections import OrderedDict\n",
    "from sklearn import preprocessing\n",
    "from matplotlib import pyplot as plt\n",
    "from sklearn import neighbors"
   ]
  },
  {
   "cell_type": "markdown",
   "metadata": {},
   "source": [
    "# Data Preparation"
   ]
  },
  {
   "cell_type": "code",
   "execution_count": 2,
   "metadata": {},
   "outputs": [
    {
     "name": "stdout",
     "output_type": "stream",
     "text": [
      "CPU times: user 22.8 s, sys: 8.7 s, total: 31.5 s\n",
      "Wall time: 1min 50s\n"
     ]
    }
   ],
   "source": [
    "%%time\n",
    "#200000 compounds with 469 features\n",
    "all_features = pd.read_csv(\"c2vpoint2m.txt.gz\", sep=\"\\t\", header=None)"
   ]
  },
  {
   "cell_type": "code",
   "execution_count": null,
   "metadata": {},
   "outputs": [],
   "source": [
    "#make the compound names the index\n",
    "all_features.set_index(0, inplace=True)"
   ]
  },
  {
   "cell_type": "code",
   "execution_count": null,
   "metadata": {},
   "outputs": [],
   "source": [
    "%%time\n",
    "#725634 compounds with target and activity\n",
    "cgan = pd.read_csv(\"activities.txt.gz\", sep=\"\\t\")"
   ]
  },
  {
   "cell_type": "code",
   "execution_count": null,
   "metadata": {},
   "outputs": [],
   "source": [
    "#we are only interested in the compounds whose target is EGFR\n",
    "egfr_activity = cgan[cgan['target'] == 'EGFR'].set_index('compound')"
   ]
  },
  {
   "cell_type": "code",
   "execution_count": null,
   "metadata": {},
   "outputs": [],
   "source": [
    "#separate into two dataframes, one with active compounds\n",
    "egfr_active = egfr_activity[egfr_activity['activity'] >= 6]\n",
    "egfr_active_compounds = egfr_active.index.values"
   ]
  },
  {
   "cell_type": "code",
   "execution_count": null,
   "metadata": {},
   "outputs": [],
   "source": [
    "#and one with inactive ones\n",
    "egfr_inactive = egfr_activity[egfr_activity['activity']  < 6]\n",
    "egfr_inactive_compounds = egfr_inactive.index.values"
   ]
  },
  {
   "cell_type": "code",
   "execution_count": null,
   "metadata": {},
   "outputs": [],
   "source": [
    "#5275 compounds with EGFR target and 469 features\n",
    "egfr_features = pd.read_csv(\"egfr.c2v.txt\", sep=\"\\t\", header=None).set_index(0)"
   ]
  },
  {
   "cell_type": "code",
   "execution_count": null,
   "metadata": {},
   "outputs": [],
   "source": [
    "#isolate the names for easier access\n",
    "egfr_compounds = egfr_features.index.values"
   ]
  },
  {
   "cell_type": "code",
   "execution_count": null,
   "metadata": {},
   "outputs": [],
   "source": [
    "#make dataframes with features for the active and inactive compounds\n",
    "egfr_active_features = egfr_features.loc[egfr_active_compounds]\n",
    "egfr_inactive_features = egfr_features.loc[egfr_inactive_compounds]"
   ]
  },
  {
   "cell_type": "code",
   "execution_count": null,
   "metadata": {},
   "outputs": [],
   "source": [
    "#scale the data so that each feature is normalized and can be compared to other features\n",
    "min_max_scaler = preprocessing.MinMaxScaler() #fits data between 0 and 1"
   ]
  },
  {
   "cell_type": "code",
   "execution_count": null,
   "metadata": {},
   "outputs": [],
   "source": [
    "#normalize the active compounds\n",
    "egfr_active_features_norm = pd.DataFrame(min_max_scaler.fit_transform(egfr_active_features), \n",
    "                                         index=egfr_active_features.index)"
   ]
  },
  {
   "cell_type": "code",
   "execution_count": null,
   "metadata": {},
   "outputs": [],
   "source": [
    "#normalize the inactive compounds\n",
    "egfr_inactive_features_norm = pd.DataFrame(min_max_scaler.fit_transform(egfr_inactive_features), \n",
    "                                           index=egfr_inactive_features.index)"
   ]
  },
  {
   "cell_type": "code",
   "execution_count": null,
   "metadata": {},
   "outputs": [],
   "source": [
    "#remove duplicates from all_features - can also use DataFrame.drop_duplicates()\n",
    "all_features_cleaned = all_features.loc[list(set(all_features.index.values) - set(egfr_compounds))]"
   ]
  },
  {
   "cell_type": "code",
   "execution_count": null,
   "metadata": {},
   "outputs": [],
   "source": [
    "#normalize the database\n",
    "all_features_cleaned_norm = pd.DataFrame(min_max_scaler.fit_transform(all_features_cleaned), index=all_features_cleaned.index)"
   ]
  },
  {
   "cell_type": "markdown",
   "metadata": {},
   "source": [
    "# Logic Creation"
   ]
  },
  {
   "cell_type": "code",
   "execution_count": null,
   "metadata": {},
   "outputs": [],
   "source": [
    "def dataprep(active, rest, size, seed):\n",
    "    #create the query from a random sample of the data\n",
    "    size = int(active.shape[0] * size + .5)\n",
    "    query = active.sample(n=size, random_state=seed)\n",
    "    \n",
    "    #remove the query, then concatenate the remaining data for training\n",
    "    sub = list(set(active.index.values) - set(query.index.values))\n",
    "    active_minus_query = active.loc[sub]\n",
    "    database = pd.concat([active_minus_query] + rest)\n",
    "    \n",
    "    return database, query"
   ]
  },
  {
   "cell_type": "code",
   "execution_count": null,
   "metadata": {},
   "outputs": [],
   "source": [
    "def buildsklearnModel(database, n_neighbors, algorithm, metric):\n",
    "    model = neighbors.NearestNeighbors(n_neighbors=n_neighbors, algorithm=algorithm, metric=metric)\n",
    "    \n",
    "    #train the model\n",
    "    start = time.time()\n",
    "    model.fit(database)\n",
    "    end = time.time()\n",
    "    \n",
    "    build_time = end - start\n",
    "    \n",
    "    return model, build_time"
   ]
  },
  {
   "cell_type": "code",
   "execution_count": null,
   "metadata": {},
   "outputs": [],
   "source": [
    "def runsklearnQuery(model, query, n_neighbors, database, active):\n",
    "    #run the query\n",
    "    start = time.time()\n",
    "    _, indices = model.kneighbors(query)\n",
    "    end = time.time()\n",
    "    \n",
    "    query_time = end - start\n",
    "    \n",
    "    #assess the quality of the results - how many of the neighbors are in the success dataframe\n",
    "    sum = 0\n",
    "    for i in indices:\n",
    "        count = 0\n",
    "        for j in i:\n",
    "            if database.index.values[j] in active.index.values:\n",
    "                count += 1\n",
    "        sum += count / float(k)\n",
    "    average = sum / query.shape[0]\n",
    "    \n",
    "    return average, query_time"
   ]
  },
  {
   "cell_type": "code",
   "execution_count": null,
   "metadata": {},
   "outputs": [],
   "source": [
    "def sklearnNN(active, rest, size, n_neighbors, algorithm, metric, seed):\n",
    "    #prepare the data\n",
    "    database, query = dataprep(active, rest, size, seed)\n",
    "    \n",
    "    #build the model\n",
    "    model, build_time = buildsklearnModel(database, n_neighbors, algorithm, metric)\n",
    "    \n",
    "    #run the query\n",
    "    average, query_time = runsklearnQuery(model, query, n_neighbors, database, active)\n",
    "    \n",
    "    #return the results in a table\n",
    "    d = OrderedDict({'algorithm/index':[algorithm], 'n_neighbors':[n_neighbors], 'query size':[size], 'metric':[metric], \n",
    "                     'build time (s)':[time_to_build], 'query time (s)':[time_to_query], 'quality':[average], 'seed':[seed]})\n",
    "    \n",
    "    return pd.DataFrame(data=d)"
   ]
  },
  {
   "cell_type": "markdown",
   "metadata": {},
   "source": [
    "# Tests"
   ]
  },
  {
   "cell_type": "code",
   "execution_count": null,
   "metadata": {},
   "outputs": [],
   "source": [
    "sklearn_results = pd.DataFrame()"
   ]
  },
  {
   "cell_type": "code",
   "execution_count": null,
   "metadata": {},
   "outputs": [],
   "source": [
    "#brute-force algorithm\n",
    "temp = []\n",
    "for metric in ['euclidean', 'cosine']:\n",
    "    #5 trials\n",
    "    for seed in range(5): \n",
    "        temp.append(sklearnNN(active=egfr_active_features_norm, rest=[all_features_cleaned_norm, egfr_inactive_features_norm],\n",
    "                             size=0.2, n_neighbors=100, algorithm='brute', metric=metric, seed=seed))\n",
    "sklearn_results = pd.concat([sklearn_results] + temp)"
   ]
  },
  {
   "cell_type": "code",
   "execution_count": null,
   "metadata": {},
   "outputs": [],
   "source": [
    "#other algorithms\n",
    "temp = []\n",
    "for algorithm in ['kd_tree', 'ball_tree']:\n",
    "    for seed in range(5):\n",
    "        temp.append(sklearnNN(egfr_active_features_norm, [all_features_cleaned_norm, egfr_inactive_features_norm],\n",
    "                             0.2, 100, algorithm, metric='euclidean', seed=seed))\n",
    "sklearn_results = pd.concat([sklearn_results] + temp)"
   ]
  },
  {
   "cell_type": "code",
   "execution_count": 16,
   "metadata": {
    "collapsed": true
   },
   "outputs": [
    {
     "data": {
      "text/html": [
       "<div>\n",
       "<style scoped>\n",
       "    .dataframe tbody tr th:only-of-type {\n",
       "        vertical-align: middle;\n",
       "    }\n",
       "\n",
       "    .dataframe tbody tr th {\n",
       "        vertical-align: top;\n",
       "    }\n",
       "\n",
       "    .dataframe thead th {\n",
       "        text-align: right;\n",
       "    }\n",
       "</style>\n",
       "<table border=\"1\" class=\"dataframe\">\n",
       "  <thead>\n",
       "    <tr style=\"text-align: right;\">\n",
       "      <th></th>\n",
       "      <th>algorithm/index</th>\n",
       "      <th>metric</th>\n",
       "      <th>n_neighbors</th>\n",
       "      <th>query size</th>\n",
       "      <th>build time (s)</th>\n",
       "      <th>query time (s)</th>\n",
       "      <th>quality</th>\n",
       "      <th>seed</th>\n",
       "    </tr>\n",
       "  </thead>\n",
       "  <tbody>\n",
       "    <tr>\n",
       "      <th>0</th>\n",
       "      <td>brute</td>\n",
       "      <td>euclidean</td>\n",
       "      <td>100</td>\n",
       "      <td>0.2</td>\n",
       "      <td>0.165012</td>\n",
       "      <td>4.812468</td>\n",
       "      <td>0.998022</td>\n",
       "      <td>0</td>\n",
       "    </tr>\n",
       "    <tr>\n",
       "      <th>1</th>\n",
       "      <td>brute</td>\n",
       "      <td>euclidean</td>\n",
       "      <td>100</td>\n",
       "      <td>0.2</td>\n",
       "      <td>0.087079</td>\n",
       "      <td>4.793198</td>\n",
       "      <td>0.996231</td>\n",
       "      <td>1</td>\n",
       "    </tr>\n",
       "    <tr>\n",
       "      <th>2</th>\n",
       "      <td>brute</td>\n",
       "      <td>euclidean</td>\n",
       "      <td>100</td>\n",
       "      <td>0.2</td>\n",
       "      <td>0.088285</td>\n",
       "      <td>4.209342</td>\n",
       "      <td>0.997836</td>\n",
       "      <td>2</td>\n",
       "    </tr>\n",
       "    <tr>\n",
       "      <th>3</th>\n",
       "      <td>brute</td>\n",
       "      <td>euclidean</td>\n",
       "      <td>100</td>\n",
       "      <td>0.2</td>\n",
       "      <td>0.076634</td>\n",
       "      <td>4.175714</td>\n",
       "      <td>0.998507</td>\n",
       "      <td>3</td>\n",
       "    </tr>\n",
       "    <tr>\n",
       "      <th>4</th>\n",
       "      <td>brute</td>\n",
       "      <td>euclidean</td>\n",
       "      <td>100</td>\n",
       "      <td>0.2</td>\n",
       "      <td>0.080415</td>\n",
       "      <td>4.325893</td>\n",
       "      <td>0.998433</td>\n",
       "      <td>4</td>\n",
       "    </tr>\n",
       "    <tr>\n",
       "      <th>5</th>\n",
       "      <td>brute</td>\n",
       "      <td>cosine</td>\n",
       "      <td>100</td>\n",
       "      <td>0.2</td>\n",
       "      <td>0.094218</td>\n",
       "      <td>6.116019</td>\n",
       "      <td>0.998060</td>\n",
       "      <td>0</td>\n",
       "    </tr>\n",
       "    <tr>\n",
       "      <th>6</th>\n",
       "      <td>brute</td>\n",
       "      <td>cosine</td>\n",
       "      <td>100</td>\n",
       "      <td>0.2</td>\n",
       "      <td>0.088929</td>\n",
       "      <td>5.694500</td>\n",
       "      <td>0.996250</td>\n",
       "      <td>1</td>\n",
       "    </tr>\n",
       "    <tr>\n",
       "      <th>7</th>\n",
       "      <td>brute</td>\n",
       "      <td>cosine</td>\n",
       "      <td>100</td>\n",
       "      <td>0.2</td>\n",
       "      <td>0.090712</td>\n",
       "      <td>5.534836</td>\n",
       "      <td>0.997836</td>\n",
       "      <td>2</td>\n",
       "    </tr>\n",
       "    <tr>\n",
       "      <th>8</th>\n",
       "      <td>brute</td>\n",
       "      <td>cosine</td>\n",
       "      <td>100</td>\n",
       "      <td>0.2</td>\n",
       "      <td>0.077965</td>\n",
       "      <td>5.698534</td>\n",
       "      <td>0.999123</td>\n",
       "      <td>3</td>\n",
       "    </tr>\n",
       "    <tr>\n",
       "      <th>9</th>\n",
       "      <td>brute</td>\n",
       "      <td>cosine</td>\n",
       "      <td>100</td>\n",
       "      <td>0.2</td>\n",
       "      <td>0.082029</td>\n",
       "      <td>5.734892</td>\n",
       "      <td>0.999030</td>\n",
       "      <td>4</td>\n",
       "    </tr>\n",
       "    <tr>\n",
       "      <th>10</th>\n",
       "      <td>kd_tree</td>\n",
       "      <td>euclidean</td>\n",
       "      <td>100</td>\n",
       "      <td>0.2</td>\n",
       "      <td>14.954630</td>\n",
       "      <td>5.969464</td>\n",
       "      <td>0.998022</td>\n",
       "      <td>0</td>\n",
       "    </tr>\n",
       "    <tr>\n",
       "      <th>11</th>\n",
       "      <td>kd_tree</td>\n",
       "      <td>euclidean</td>\n",
       "      <td>100</td>\n",
       "      <td>0.2</td>\n",
       "      <td>17.550056</td>\n",
       "      <td>3.525285</td>\n",
       "      <td>0.996231</td>\n",
       "      <td>1</td>\n",
       "    </tr>\n",
       "    <tr>\n",
       "      <th>12</th>\n",
       "      <td>kd_tree</td>\n",
       "      <td>euclidean</td>\n",
       "      <td>100</td>\n",
       "      <td>0.2</td>\n",
       "      <td>13.527181</td>\n",
       "      <td>3.645867</td>\n",
       "      <td>0.997836</td>\n",
       "      <td>2</td>\n",
       "    </tr>\n",
       "    <tr>\n",
       "      <th>13</th>\n",
       "      <td>kd_tree</td>\n",
       "      <td>euclidean</td>\n",
       "      <td>100</td>\n",
       "      <td>0.2</td>\n",
       "      <td>14.352936</td>\n",
       "      <td>3.480599</td>\n",
       "      <td>0.998507</td>\n",
       "      <td>3</td>\n",
       "    </tr>\n",
       "    <tr>\n",
       "      <th>14</th>\n",
       "      <td>kd_tree</td>\n",
       "      <td>euclidean</td>\n",
       "      <td>100</td>\n",
       "      <td>0.2</td>\n",
       "      <td>13.016562</td>\n",
       "      <td>3.591177</td>\n",
       "      <td>0.998433</td>\n",
       "      <td>4</td>\n",
       "    </tr>\n",
       "    <tr>\n",
       "      <th>15</th>\n",
       "      <td>ball_tree</td>\n",
       "      <td>euclidean</td>\n",
       "      <td>100</td>\n",
       "      <td>0.2</td>\n",
       "      <td>15.368682</td>\n",
       "      <td>39.924727</td>\n",
       "      <td>0.998022</td>\n",
       "      <td>0</td>\n",
       "    </tr>\n",
       "    <tr>\n",
       "      <th>16</th>\n",
       "      <td>ball_tree</td>\n",
       "      <td>euclidean</td>\n",
       "      <td>100</td>\n",
       "      <td>0.2</td>\n",
       "      <td>15.751664</td>\n",
       "      <td>30.411358</td>\n",
       "      <td>0.996231</td>\n",
       "      <td>1</td>\n",
       "    </tr>\n",
       "    <tr>\n",
       "      <th>17</th>\n",
       "      <td>ball_tree</td>\n",
       "      <td>euclidean</td>\n",
       "      <td>100</td>\n",
       "      <td>0.2</td>\n",
       "      <td>14.987370</td>\n",
       "      <td>30.472806</td>\n",
       "      <td>0.997836</td>\n",
       "      <td>2</td>\n",
       "    </tr>\n",
       "    <tr>\n",
       "      <th>18</th>\n",
       "      <td>ball_tree</td>\n",
       "      <td>euclidean</td>\n",
       "      <td>100</td>\n",
       "      <td>0.2</td>\n",
       "      <td>15.448714</td>\n",
       "      <td>31.710348</td>\n",
       "      <td>0.998507</td>\n",
       "      <td>3</td>\n",
       "    </tr>\n",
       "    <tr>\n",
       "      <th>19</th>\n",
       "      <td>ball_tree</td>\n",
       "      <td>euclidean</td>\n",
       "      <td>100</td>\n",
       "      <td>0.2</td>\n",
       "      <td>14.853384</td>\n",
       "      <td>32.527505</td>\n",
       "      <td>0.998433</td>\n",
       "      <td>4</td>\n",
       "    </tr>\n",
       "  </tbody>\n",
       "</table>\n",
       "</div>"
      ],
      "text/plain": [
       "   algorithm/index     metric  n_neighbors  query size  build time (s)  \\\n",
       "0            brute  euclidean          100         0.2        0.165012   \n",
       "1            brute  euclidean          100         0.2        0.087079   \n",
       "2            brute  euclidean          100         0.2        0.088285   \n",
       "3            brute  euclidean          100         0.2        0.076634   \n",
       "4            brute  euclidean          100         0.2        0.080415   \n",
       "5            brute     cosine          100         0.2        0.094218   \n",
       "6            brute     cosine          100         0.2        0.088929   \n",
       "7            brute     cosine          100         0.2        0.090712   \n",
       "8            brute     cosine          100         0.2        0.077965   \n",
       "9            brute     cosine          100         0.2        0.082029   \n",
       "10         kd_tree  euclidean          100         0.2       14.954630   \n",
       "11         kd_tree  euclidean          100         0.2       17.550056   \n",
       "12         kd_tree  euclidean          100         0.2       13.527181   \n",
       "13         kd_tree  euclidean          100         0.2       14.352936   \n",
       "14         kd_tree  euclidean          100         0.2       13.016562   \n",
       "15       ball_tree  euclidean          100         0.2       15.368682   \n",
       "16       ball_tree  euclidean          100         0.2       15.751664   \n",
       "17       ball_tree  euclidean          100         0.2       14.987370   \n",
       "18       ball_tree  euclidean          100         0.2       15.448714   \n",
       "19       ball_tree  euclidean          100         0.2       14.853384   \n",
       "\n",
       "    query time (s)   quality  seed  \n",
       "0         4.812468  0.998022     0  \n",
       "1         4.793198  0.996231     1  \n",
       "2         4.209342  0.997836     2  \n",
       "3         4.175714  0.998507     3  \n",
       "4         4.325893  0.998433     4  \n",
       "5         6.116019  0.998060     0  \n",
       "6         5.694500  0.996250     1  \n",
       "7         5.534836  0.997836     2  \n",
       "8         5.698534  0.999123     3  \n",
       "9         5.734892  0.999030     4  \n",
       "10        5.969464  0.998022     0  \n",
       "11        3.525285  0.996231     1  \n",
       "12        3.645867  0.997836     2  \n",
       "13        3.480599  0.998507     3  \n",
       "14        3.591177  0.998433     4  \n",
       "15       39.924727  0.998022     0  \n",
       "16       30.411358  0.996231     1  \n",
       "17       30.472806  0.997836     2  \n",
       "18       31.710348  0.998507     3  \n",
       "19       32.527505  0.998433     4  "
      ]
     },
     "execution_count": 16,
     "metadata": {},
     "output_type": "execute_result"
    }
   ],
   "source": [
    "sklearn_results"
   ]
  },
  {
   "cell_type": "markdown",
   "metadata": {},
   "source": [
    "# Graphs"
   ]
  },
  {
   "cell_type": "code",
   "execution_count": 17,
   "metadata": {},
   "outputs": [],
   "source": [
    "a = sklearn_results"
   ]
  },
  {
   "cell_type": "code",
   "execution_count": 70,
   "metadata": {
    "collapsed": true
   },
   "outputs": [
    {
     "data": {
      "image/png": "[encoded data removed]",
      "text/plain": [
       "<Figure size 432x288 with 1 Axes>"
      ]
     },
     "metadata": {},
     "output_type": "display_data"
    },
    {
     "data": {
      "image/png": "[encoded data removed]",
      "text/plain": [
       "<Figure size 432x288 with 2 Axes>"
      ]
     },
     "metadata": {},
     "output_type": "display_data"
    }
   ],
   "source": [
    "#graph of query time vs quality for each of the algorithm/metric combinations\n",
    "plt.figure()\n",
    "for i in range(0, 25, 5):\n",
    "    plt.scatter(a[i:i+5]['query time (s)'], a[i:i+5]['quality'], s=10)\n",
    "plt.ylim(0.996, 0.9993)\n",
    "plt.xlabel('query time (s)')\n",
    "plt.ylabel('quality')\n",
    "plt.legend(['sklearn/brute/euclidean', 'sklearn/brute/cosine', 'sklearn/kd_tree/euclidean', 'sklearn/ball_tree/euclidean'])\n",
    "\n",
    "\n",
    "#broken x-axis\n",
    "f, (ax, ax2) = plt.subplots(1, 2, sharey=True, facecolor='w')\n",
    "\n",
    "for i in range(0, 15, 5):\n",
    "    ax.scatter(a[i:i+5]['query time (s)'], a[i:i+5]['quality'], s=10)\n",
    "\n",
    "ax2.scatter(a[15:20]['query time (s)'], a[15:20]['quality'], s=10)\n",
    "\n",
    "plt.ylim(0.996, 0.9993)\n",
    "\n",
    "ax.set_xlabel('query time (s)')\n",
    "ax.set_ylabel('quality')\n",
    "\n",
    "ax.legend(['sklearn/brute/euclidean', 'sklearn/brute/cosine', 'sklearn/kd_tree/euclidean'], bbox_to_anchor=(1.1, 1.3))\n",
    "ax2.legend(['sklearn/ball_tree/euclidean'], bbox_to_anchor=(1.15, 1.15))\n",
    "\n",
    "plt.show()"
   ]
  },
  {
   "cell_type": "code",
   "execution_count": 71,
   "metadata": {
    "collapsed": true
   },
   "outputs": [
    {
     "data": {
      "image/png": "[encoded data removed]",
      "text/plain": [
       "<Figure size 432x288 with 1 Axes>"
      ]
     },
     "metadata": {},
     "output_type": "display_data"
    },
    {
     "data": {
      "image/png": "[encoded data removed]",
      "text/plain": [
       "<Figure size 432x288 with 2 Axes>"
      ]
     },
     "metadata": {},
     "output_type": "display_data"
    }
   ],
   "source": [
    "#graph of build time vs quality for each of the algorithm/metric combinations\n",
    "plt.figure()\n",
    "for i in range(0, 25, 5):  \n",
    "    plt.scatter(a[i:i+5]['build time (s)'], a[i:i+5]['quality'], s=10)\n",
    "\n",
    "plt.ylim(0.996, 0.9993)\n",
    "plt.xlabel('build time (s)')\n",
    "plt.ylabel('quality')\n",
    "plt.legend(['sklearn/brute/euclidean', 'sklearn/brute/cosine', 'sklearn/kd_tree/euclidean', \n",
    "            'sklearn/ball_tree/euclidean'])\n",
    "\n",
    "\n",
    "\n",
    "#broken x-axis\n",
    "f, (ax, ax2) = plt.subplots(1, 2, sharey=True, facecolor='w')\n",
    "for i in range(0, 10, 5):\n",
    "    ax.scatter(a[i:i+5]['build time (s)'], a[i:i+5]['quality'], s=10)\n",
    "    ax2.scatter(a[i+10:i+15]['build time (s)'], a[i+10:i+15]['quality'], s=10)\n",
    "    \n",
    "plt.ylim(0.996, 0.9993)\n",
    "    \n",
    "ax.set_xlabel('build time (s)')\n",
    "ax.set_ylabel('quality')\n",
    "\n",
    "ax.legend(['sklearn/brute/euclidean', 'sklearn/brute/cosine'], bbox_to_anchor=(1.05, 1.2))\n",
    "ax2.legend(['sklearn/kd_tree/euclidean', 'sklearn/ball_tree/euclidean'], bbox_to_anchor=(1.15, 1.2))\n",
    "\n",
    "plt.show()"
   ]
  }
 ],
 "metadata": {
  "kernelspec": {
   "display_name": "Python 3",
   "language": "python",
   "name": "python3"
  },
  "language_info": {
   "codemirror_mode": {
    "name": "ipython",
    "version": 3
   },
   "file_extension": ".py",
   "mimetype": "text/x-python",
   "name": "python",
   "nbconvert_exporter": "python",
   "pygments_lexer": "ipython3",
   "version": "3.6.5"
  }
 },
 "nbformat": 4,
 "nbformat_minor": 2
}
