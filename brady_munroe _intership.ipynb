{
 "cells": [
  {
   "cell_type": "markdown",
   "metadata": {},
   "source": [
    "# Intership for Senior High School Student"
   ]
  },
  {
   "cell_type": "markdown",
   "metadata": {},
   "source": [
    "- Week 1: Tue-Fri\n",
    "- Week 2: Tue, Thur\n",
    "- Week 3: Tue-Fri\n",
    "- Week 4: Mon-Fri"
   ]
  },
  {
   "cell_type": "markdown",
   "metadata": {},
   "source": [
    "## Week 1, Day 1"
   ]
  },
  {
   "cell_type": "markdown",
   "metadata": {},
   "source": [
    "- Purpose of the intership\n",
    " - [Data Scientist Types](https://www.kdnuggets.com/2015/11/different-data-science-roles-industry.html)\n",
    " - [Introduction to machine learning](http://www.r2d3.us/visual-intro-to-machine-learning-part-1/)\n",
    " - [Practical example of machine learning](http://www.r2d3.us/decision-trees-part-1-v1/)\n",
    "\n",
    "\n",
    "- Common tools for data scientist\n",
    " - [Linux + Linux command line](https://www.datascienceatthecommandline.com/)\n",
    " - [Interactive programming](https://jupyter-notebook-beginner-guide.readthedocs.io/en/latest/)\n",
    " - [Markdown](https://www.markdownguide.org/)\n",
    " - [Git and code version](https://git-scm.com/book/en/v2/Getting-Started-Git-Basics)"
   ]
  },
  {
   "cell_type": "markdown",
   "metadata": {},
   "source": [
    "## Week 1, Day 2"
   ]
  },
  {
   "cell_type": "markdown",
   "metadata": {},
   "source": [
    "- Challenges in data science\n",
    " - Transferability\n",
    " - Transperancy \n",
    " \n",
    "- Building machine learning enviroment\n",
    " - [conda is the driver!](https://conda.io/docs/user-guide/install/index.html)\n",
    "\n",
    "\n",
    "- Standard machine learning packages\n",
    " - [scikit-learn](http://scikit-learn.org/stable/)\n",
    " - [scipy](https://www.scipy.org/) + [numpy]()\n",
    " - [matplotlib](https://matplotlib.org/) + [bokeh](https://bokeh.pydata.org/en/latest/)\n",
    " - [pandas](https://pandas.pydata.org/)\n",
    " - [tensorflow]() + [CPU vs GPU](https://www.quora.com/Why-are-GPUs-well-suited-to-deep-learning)\n",
    "\n",
    "\n",
    "- Todo: Random data\n",
    " - Test different distributions for random number generations: length is 1000 \n",
    " - Plot them - individual plots + combined plot\n",
    " - [Compare them](https://docs.scipy.org/doc/numpy-1.14.0/reference/generated/numpy.correlate.html)\n",
    "  \n",
    "  \n",
    "- References:\n",
    " - [numpy random](https://docs.scipy.org/doc/numpy-1.14.0/reference/routines.random.html)\n",
    " - kNN (k-nearest neighbours)[http://scikit-learn.org/stable/modules/neighbors.html]\n",
    " - [Machine learning overview](https://developers.google.com/machine-learning/rules-of-ml/)\n"
   ]
  },
  {
   "cell_type": "markdown",
   "metadata": {},
   "source": [
    "# Week 1, Day 3"
   ]
  },
  {
   "cell_type": "markdown",
   "metadata": {},
   "source": [
    "- Similarity, Distances\n",
    " - [similarity measures in python](http://dataaspirant.com/2015/04/11/five-most-popular-similarity-measures-implementation-in-python/)\n",
    "  - [pairwise similarity in sklearn](http://scikit-learn.org/stable/modules/classes.html#module-sklearn.metrics.pairwise)\n",
    "\n",
    "\n",
    "- k-nearest neighbour\n",
    " - Basics: [1](https://www.analyticsvidhya.com/blog/2018/03/introduction-k-neighbours-algorithm-clustering/) + [2](https://medium.com/@adi.bronshtein/a-quick-introduction-to-k-nearest-neighbors-algorithm-62214cea29c7) + [wiki](https://en.wikipedia.org/wiki/K-nearest_neighbors_algorithm)\n",
    "\n",
    "\n",
    "- kNN with real data (iris, breast_cancer)\n",
    " - [Iris dataset](https://en.wikipedia.org/wiki/Iris_flower_data_set) + [dataset in sklearn](http://scikit-learn.org/stable/modules/generated/sklearn.datasets.load_iris.html#sklearn.datasets.load_iris)\n",
    " - [Breast cancer](http://scikit-learn.org/stable/modules/generated/sklearn.datasets.load_breast_cancer.html)\n",
    " \n",
    "- Todo:\n",
    " - Read about similarity and distances\n",
    " - Descriptive statistics in python for iris dataset: add your comments on the data\n",
    " - Build function for quering dataset with unsupervised kNN, and run it on iris dataset and ideally on breast cancer dataset\n",
    " - PS: comment every action, comment every conclusion (in markdown or in comments section)"
   ]
  },
  {
   "cell_type": "markdown",
   "metadata": {},
   "source": [
    "# Week 1, Day 4"
   ]
  },
  {
   "cell_type": "markdown",
   "metadata": {},
   "source": [
    "Todo:\n",
    " - Check similarity search for scaled/non-scaled data, some starting points [here](http://scikit-learn.org/stable/modules/preprocessing.html)\n",
    " - Cluster iris or breast cancer using 2-3 methods - starting point is [here](http://scikit-learn.org/stable/modules/clustering.html), but do not go too deeply.\n",
    " - Read about software and data licenses (find sources yourself)\n",
    " - Read about approximate nearest neighbors (ANN)\n",
    "  - [ANN in sklearn](http://scikit-learn.org/0.18/auto_examples/neighbors/plot_approximate_nearest_neighbors_hyperparameters.html)\n",
    "  - [ANN benchmark 1](https://github.com/erikbern/ann-benchmarks)\n",
    "  - [ANN benchmark 2](http://www.itu.dk/people/pagh/SSS/ann-benchmarks/)"
   ]
  },
  {
   "cell_type": "code",
   "execution_count": null,
   "metadata": {},
   "outputs": [],
   "source": []
  }
 ],
 "metadata": {
  "kernelspec": {
   "display_name": "Python 3",
   "language": "python",
   "name": "python3"
  },
  "language_info": {
   "codemirror_mode": {
    "name": "ipython",
    "version": 3
   },
   "file_extension": ".py",
   "mimetype": "text/x-python",
   "name": "python",
   "nbconvert_exporter": "python",
   "pygments_lexer": "ipython3",
   "version": "3.6.4"
  }
 },
 "nbformat": 4,
 "nbformat_minor": 2
}
