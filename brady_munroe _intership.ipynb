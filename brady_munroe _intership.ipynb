{
 "cells": [
  {
   "cell_type": "markdown",
   "metadata": {},
   "source": [
    "# Intership for Senior High School Student"
   ]
  },
  {
   "cell_type": "markdown",
   "metadata": {},
   "source": [
    "- Week 1: Tue-Fri\n",
    "- Week 2: Tue, Thur\n",
    "- Week 3: Tue-Fri\n",
    "- Week 4: Mon-Fri"
   ]
  },
  {
   "cell_type": "markdown",
   "metadata": {},
   "source": [
    "## Week 1, Day 1"
   ]
  },
  {
   "cell_type": "markdown",
   "metadata": {},
   "source": [
    "- Purpose of the intership\n",
    " - [Data Scientist Types](https://www.kdnuggets.com/2015/11/different-data-science-roles-industry.html)\n",
    " - [Introduction to machine learning](http://www.r2d3.us/visual-intro-to-machine-learning-part-1/)\n",
    " - [Practical example of machine learning](http://www.r2d3.us/decision-trees-part-1-v1/)\n",
    "\n",
    "\n",
    "- Common tools for data scientist\n",
    " - [Linux + Linux command line](https://www.datascienceatthecommandline.com/)\n",
    " - [Interactive programming](https://jupyter-notebook-beginner-guide.readthedocs.io/en/latest/)\n",
    " - [Markdown](https://www.markdownguide.org/)\n",
    " - [Git and code version](https://git-scm.com/book/en/v2/Getting-Started-Git-Basics)"
   ]
  },
  {
   "cell_type": "markdown",
   "metadata": {},
   "source": [
    "## Week 1, Day 2"
   ]
  },
  {
   "cell_type": "markdown",
   "metadata": {},
   "source": [
    "- Challenges in data science\n",
    " - Transferability\n",
    " - Transperancy \n",
    " \n",
    "- Building machine learning enviroment\n",
    " - [conda is the driver!](https://conda.io/docs/user-guide/install/index.html)\n",
    "\n",
    "\n",
    "- Standard machine learning packages\n",
    " - [scikit-learn](http://scikit-learn.org/stable/)\n",
    " - [scipy](https://www.scipy.org/) + [numpy]()\n",
    " - [matplotlib](https://matplotlib.org/) + [bokeh](https://bokeh.pydata.org/en/latest/)\n",
    " - [pandas](https://pandas.pydata.org/)\n",
    " - [tensorflow]() + [CPU vs GPU](https://www.quora.com/Why-are-GPUs-well-suited-to-deep-learning)\n",
    "\n",
    "\n",
    "- Todo: Random data\n",
    " - Test different distributions for random number generations: length is 1000 \n",
    " - Plot them - individual plots + combined plot\n",
    " - [Compare them](https://docs.scipy.org/doc/numpy-1.14.0/reference/generated/numpy.correlate.html)\n",
    "  \n",
    "  \n",
    "- References:\n",
    " - [numpy random](https://docs.scipy.org/doc/numpy-1.14.0/reference/routines.random.html)\n",
    " - kNN (k-nearest neighbours)[http://scikit-learn.org/stable/modules/neighbors.html]\n",
    " - [Machine learning overview](https://developers.google.com/machine-learning/rules-of-ml/)\n"
   ]
  },
  {
   "cell_type": "code",
   "execution_count": null,
   "metadata": {},
   "outputs": [],
   "source": []
  }
 ],
 "metadata": {
  "kernelspec": {
   "display_name": "Python 3",
   "language": "python",
   "name": "python3"
  },
  "language_info": {
   "codemirror_mode": {
    "name": "ipython",
    "version": 3
   },
   "file_extension": ".py",
   "mimetype": "text/x-python",
   "name": "python",
   "nbconvert_exporter": "python",
   "pygments_lexer": "ipython3",
   "version": "3.6.4"
  }
 },
 "nbformat": 4,
 "nbformat_minor": 2
}
